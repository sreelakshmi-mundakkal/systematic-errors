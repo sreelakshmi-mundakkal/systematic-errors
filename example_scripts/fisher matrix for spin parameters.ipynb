{
 "cells": [
  {
   "cell_type": "code",
   "execution_count": 1,
   "metadata": {},
   "outputs": [
    {
     "name": "stderr",
     "output_type": "stream",
     "text": [
      "/home/sreelakshmi/anaconda3/envs/igwn-py310/lib/python3.10/site-packages/pandas/core/computation/expressions.py:21: UserWarning: Pandas requires version '2.8.0' or newer of 'numexpr' (version '2.7.3' currently installed).\n",
      "  from pandas.core.computation.check import NUMEXPR_INSTALLED\n"
     ]
    }
   ],
   "source": [
    "import numpy as np\n",
    "from gwbench import network"
   ]
  },
  {
   "cell_type": "markdown",
   "metadata": {},
   "source": [
    "## User Choices"
   ]
  },
  {
   "cell_type": "markdown",
   "metadata": {},
   "source": [
    "#### choose the desired detectors"
   ]
  },
  {
   "cell_type": "code",
   "execution_count": 2,
   "metadata": {},
   "outputs": [],
   "source": [
    "\n",
    "network_spec = ['aLIGO_H','aLIGO_L','aLIGO_V']"
   ]
  },
  {
   "cell_type": "markdown",
   "metadata": {},
   "source": [
    "#### initialize the network with the desired detectors"
   ]
  },
  {
   "cell_type": "code",
   "execution_count": 3,
   "metadata": {},
   "outputs": [],
   "source": [
    "net = network.Network(network_spec)"
   ]
  },
  {
   "cell_type": "markdown",
   "metadata": {},
   "source": [
    "#### choose the desired waveform "
   ]
  },
  {
   "cell_type": "code",
   "execution_count": 4,
   "metadata": {},
   "outputs": [],
   "source": [
    "wf_model_name = 'lal_bbh_jframe'"
   ]
  },
  {
   "cell_type": "markdown",
   "metadata": {},
   "source": [
    "#### pass the chosen waveform to the network for initialization"
   ]
  },
  {
   "cell_type": "code",
   "execution_count": 5,
   "metadata": {},
   "outputs": [],
   "source": [
    "net.set_wf_vars(wf_model_name=wf_model_name)"
   ]
  },
  {
   "cell_type": "markdown",
   "metadata": {},
   "source": [
    "#### pick the desired frequency range"
   ]
  },
  {
   "cell_type": "code",
   "execution_count": 6,
   "metadata": {},
   "outputs": [
    {
     "name": "stdout",
     "output_type": "stream",
     "text": [
      "16304\n"
     ]
    }
   ],
   "source": [
    "f = np.arange(5.,1024,2**-4)\n",
    "print(len(f))"
   ]
  },
  {
   "cell_type": "markdown",
   "metadata": {},
   "source": [
    "#### set the injection parameters"
   ]
  },
  {
   "cell_type": "code",
   "execution_count": 7,
   "metadata": {},
   "outputs": [],
   "source": [
    "\n",
    "\n",
    "# inj_params = {\n",
    "#     'Mc':          27.9,\n",
    "#     'eta':         0.249,\n",
    "#     'a_1':         0.34,\n",
    "#     'a_2':         0.34,\n",
    "#     'tilt_1':      1e-5,\n",
    "#     'tilt_2':      1e-5,\n",
    "#     'phi_12':      1e-5,\n",
    "#     'phi_jl':      1e-5,\n",
    "#     'theta_jn':    0.,\n",
    "#     'DL':          200,\n",
    "#     'tc':          0,\n",
    "#     'phic':        0,\n",
    "#     'approximant': 'IMRPhenomXPHM',\n",
    "#     'ra':          np.pi/2,\n",
    "#     'dec':         np.pi/4,\n",
    "#     'psi':         np.pi/4,\n",
    "#     'gmst0':       0\n",
    "#     }"
   ]
  },
  {
   "cell_type": "code",
   "execution_count": 8,
   "metadata": {},
   "outputs": [],
   "source": [
    "inj_params = {\n",
    "    'Mc':          27.9,\n",
    "    'eta':         0.249,\n",
    "    'a_1':         1e-5,\n",
    "    'a_2':         1e-5,\n",
    "    'tilt_1':      1e-5,\n",
    "    'tilt_2':      1e-5,\n",
    "    'phi_12':      0.,\n",
    "    'phi_jl':      0.,\n",
    "    'theta_jn':    0.,\n",
    "    'DL':          470.,\n",
    "    'tc':          0.,\n",
    "    'phic':        0.,\n",
    "    'approximant': 'IMRPhenomXP',\n",
    "    'ra':          np.pi/4,\n",
    "    'dec':         np.pi/4,\n",
    "    'psi':         np.pi/4,\n",
    "    'gmst0':       0.\n",
    "}"
   ]
  },
  {
   "cell_type": "code",
   "execution_count": 9,
   "metadata": {},
   "outputs": [
    {
     "name": "stdout",
     "output_type": "stream",
     "text": [
      "64.25169587301812\n",
      "34.15766496138084 30.09403091163728\n",
      "1.1557284258714626\n"
     ]
    }
   ],
   "source": [
    "\n",
    "from gwbench import basic_relations\n",
    "tot_mass = basic_relations.M_of_Mc_eta(27.9, 0.249)\n",
    "print(tot_mass)\n",
    "m1,m2 = basic_relations.m1_m2_of_M_eta(tot_mass,0.249)\n",
    "print(m1,m2)\n",
    "q= m1/m2\n",
    "k= q*((4*q)+3)/(4+(3*q))\n",
    "print(k)"
   ]
  },
  {
   "cell_type": "code",
   "execution_count": 10,
   "metadata": {},
   "outputs": [],
   "source": [
    "deriv_symbs_string = 'Mc eta a_1 tilt_1 DL tc phic'"
   ]
  },
  {
   "cell_type": "markdown",
   "metadata": {},
   "source": [
    "#### assign which parameters to convert to cos or log versions"
   ]
  },
  {
   "cell_type": "code",
   "execution_count": 11,
   "metadata": {},
   "outputs": [],
   "source": [
    "conv_cos = ('tilt_1')\n",
    "conv_log = ('Mc')  ##conv_cos= conv_cos, conv_log= conv_log,"
   ]
  },
  {
   "cell_type": "markdown",
   "metadata": {},
   "source": [
    "#### choose whether to take Earth's rotation into account"
   ]
  },
  {
   "cell_type": "code",
   "execution_count": 12,
   "metadata": {},
   "outputs": [],
   "source": [
    "use_rot = 0"
   ]
  },
  {
   "cell_type": "markdown",
   "metadata": {},
   "source": [
    "#### pass all these variables to the network"
   ]
  },
  {
   "cell_type": "code",
   "execution_count": 13,
   "metadata": {},
   "outputs": [],
   "source": [
    "net.set_net_vars(\n",
    "    f=f, inj_params=inj_params,\n",
    "    deriv_symbs_string=deriv_symbs_string,\n",
    "    conv_cos= conv_cos, conv_log= conv_log,\n",
    "    use_rot=use_rot\n",
    "    )"
   ]
  },
  {
   "cell_type": "markdown",
   "metadata": {},
   "source": [
    "## GW benchmarking"
   ]
  },
  {
   "cell_type": "markdown",
   "metadata": {},
   "source": [
    "#### compute the WF polarizations"
   ]
  },
  {
   "cell_type": "code",
   "execution_count": 14,
   "metadata": {},
   "outputs": [
    {
     "name": "stderr",
     "output_type": "stream",
     "text": [
      "2023-10-26 17:52:39,565 - Network - INFO : Polarizations calculated.\n"
     ]
    },
    {
     "name": "stdout",
     "output_type": "stream",
     "text": [
      "16304\n"
     ]
    }
   ],
   "source": [
    "net.calc_wf_polarizations()\n",
    "f0=net.hfc\n",
    "print(len(f0))\n",
    "#print(f0)"
   ]
  },
  {
   "cell_type": "markdown",
   "metadata": {},
   "source": [
    "#### compute the WF polarizations and their derivatives"
   ]
  },
  {
   "cell_type": "code",
   "execution_count": 15,
   "metadata": {
    "scrolled": true
   },
   "outputs": [
    {
     "name": "stderr",
     "output_type": "stream",
     "text": [
      "2023-10-26 17:52:39,593 - Network - INFO : Calculate numeric derivatives of polarizations.\n",
      "2023-10-26 17:52:39,649 - Network - INFO : Polarizations calculated.\n",
      "2023-10-26 17:52:45,159 - Network - INFO : Numeric derivatives of polarizations calculated.\n"
     ]
    }
   ],
   "source": [
    "net.calc_wf_polarizations_derivs_num()\n",
    "#f1=net.del_hfpc\n",
    "#print(len(f1))\n",
    "#print(f1)\n",
    "\n",
    "#for key in f1.keys():\n",
    "   #print(key)\n"
   ]
  },
  {
   "cell_type": "code",
   "execution_count": 16,
   "metadata": {},
   "outputs": [
    {
     "name": "stdout",
     "output_type": "stream",
     "text": [
      "14\n",
      "{'del_log_Mc_hfp': array([-2.87432655e-22-2.87436125e-22j, -8.00278197e-21-9.53976823e-22j,\n",
      "       -1.45019644e-20-9.31010936e-21j, ...,\n",
      "        0.00000000e+00+0.00000000e+00j,  0.00000000e+00+0.00000000e+00j,\n",
      "        0.00000000e+00+0.00000000e+00j]), 'del_log_Mc_hfc': array([-2.87434390e-22+2.87434390e-22j, -9.53976823e-22+8.00278197e-21j,\n",
      "       -9.31010936e-21+1.45019644e-20j, ...,\n",
      "        0.00000000e+00+0.00000000e+00j,  0.00000000e+00+0.00000000e+00j,\n",
      "        0.00000000e+00+0.00000000e+00j]), 'del_eta_hfp': array([-3.45921816e-23-3.45921816e-23j,  1.09365989e-21+6.50430597e-23j,\n",
      "        1.85663361e-21+1.07849002e-21j, ...,\n",
      "        0.00000000e+00+0.00000000e+00j,  0.00000000e+00+0.00000000e+00j,\n",
      "        0.00000000e+00+0.00000000e+00j]), 'del_eta_hfc': array([-3.45921816e-23+3.45921816e-23j,  6.50430597e-23-1.09365989e-21j,\n",
      "        1.07849007e-21-1.85663369e-21j, ...,\n",
      "        0.00000000e+00+0.00000000e+00j,  0.00000000e+00+0.00000000e+00j,\n",
      "        0.00000000e+00+0.00000000e+00j]), 'del_a_1_hfp': array([4.53639996e-25+4.53764374e-25j, 2.16693885e-22+2.31797833e-23j,\n",
      "       3.64460846e-22+2.15904821e-22j, ...,\n",
      "       0.00000000e+00+0.00000000e+00j, 0.00000000e+00+0.00000000e+00j,\n",
      "       0.00000000e+00+0.00000000e+00j]), 'del_a_1_hfc': array([4.53702185e-25-4.53702185e-25j, 2.31797743e-23-2.16693799e-22j,\n",
      "       2.15904821e-22-3.64460846e-22j, ...,\n",
      "       0.00000000e+00+0.00000000e+00j, 0.00000000e+00+0.00000000e+00j,\n",
      "       0.00000000e+00+0.00000000e+00j]), 'del_cos_tilt_1_hfp': array([-0.+0.j, -0.+0.j, -0.+0.j, ..., -0.+0.j, -0.+0.j, -0.+0.j]), 'del_cos_tilt_1_hfc': array([-0.+0.j, -0.+0.j, -0.+0.j, ..., -0.+0.j, -0.+0.j, -0.+0.j]), 'del_DL_hfp': array([ 5.95920498e-25+5.95920498e-25j, -8.61153950e-26+8.25868031e-25j,\n",
      "       -4.29577994e-25+6.96485222e-25j, ...,\n",
      "        0.00000000e+00+0.00000000e+00j,  0.00000000e+00+0.00000000e+00j,\n",
      "        0.00000000e+00+0.00000000e+00j]), 'del_DL_hfc': array([5.95920498e-25-5.95920498e-25j, 8.25868031e-25+8.61153950e-26j,\n",
      "       6.96507637e-25+4.29541648e-25j, ...,\n",
      "       0.00000000e+00+0.00000000e+00j, 0.00000000e+00+0.00000000e+00j,\n",
      "       0.00000000e+00+0.00000000e+00j]), 'del_tc_hfp': array([8.79874245e-21-8.79874245e-21j, 1.23472861e-20+1.28748344e-21j,\n",
      "       1.05420210e-20+6.50134591e-21j, ...,\n",
      "       0.00000000e+00+0.00000000e+00j, 0.00000000e+00+0.00000000e+00j,\n",
      "       0.00000000e+00+0.00000000e+00j]), 'del_tc_hfc': array([-8.79874245e-21-8.79874245e-21j,  1.28748345e-21-1.23472862e-20j,\n",
      "        6.50134591e-21-1.05420210e-20j, ...,\n",
      "        0.00000000e+00+0.00000000e+00j,  0.00000000e+00+0.00000000e+00j,\n",
      "        0.00000000e+00+0.00000000e+00j]), 'del_phic_hfp': array([-2.80072670e-22+2.80072670e-22j, -3.88174147e-22-4.04759219e-23j,\n",
      "       -3.27378500e-22-2.01896826e-22j, ...,\n",
      "        0.00000000e+00+0.00000000e+00j,  0.00000000e+00+0.00000000e+00j,\n",
      "        0.00000000e+00+0.00000000e+00j]), 'del_phic_hfc': array([ 2.80072670e-22+2.80072670e-22j, -4.04759219e-23+3.88174147e-22j,\n",
      "       -2.01896826e-22+3.27378500e-22j, ...,\n",
      "        0.00000000e+00+0.00000000e+00j,  0.00000000e+00+0.00000000e+00j,\n",
      "        0.00000000e+00+0.00000000e+00j])}\n",
      "del_log_Mc_hfp\n",
      "del_log_Mc_hfc\n",
      "del_eta_hfp\n",
      "del_eta_hfc\n",
      "del_a_1_hfp\n",
      "del_a_1_hfc\n",
      "del_cos_tilt_1_hfp\n",
      "del_cos_tilt_1_hfc\n",
      "del_DL_hfp\n",
      "del_DL_hfc\n",
      "del_tc_hfp\n",
      "del_tc_hfc\n",
      "del_phic_hfp\n",
      "del_phic_hfc\n"
     ]
    }
   ],
   "source": [
    "f1=net.del_hfpc\n",
    "print(len(f1))\n",
    "print(f1)\n",
    "\n",
    "for key in f1.keys():\n",
    "   print(key)"
   ]
  },
  {
   "cell_type": "markdown",
   "metadata": {},
   "source": [
    "#### setup antenna patterns, location phase factors, and PSDs"
   ]
  },
  {
   "cell_type": "code",
   "execution_count": 17,
   "metadata": {},
   "outputs": [
    {
     "name": "stderr",
     "output_type": "stream",
     "text": [
      "2023-10-26 17:52:45,260 - Network - INFO : PSDs loaded.\n",
      "2023-10-26 17:52:45,268 - Network - INFO : Antenna patterns and LPFs loaded.\n"
     ]
    }
   ],
   "source": [
    "net.setup_ant_pat_lpf_psds()"
   ]
  },
  {
   "cell_type": "markdown",
   "metadata": {},
   "source": [
    "#### compute the detector responses"
   ]
  },
  {
   "cell_type": "code",
   "execution_count": 18,
   "metadata": {},
   "outputs": [
    {
     "name": "stderr",
     "output_type": "stream",
     "text": [
      "2023-10-26 17:52:45,413 - Network - INFO : Detector responses calculated.\n"
     ]
    }
   ],
   "source": [
    "net.calc_det_responses()"
   ]
  },
  {
   "cell_type": "markdown",
   "metadata": {},
   "source": [
    "#### \n",
    "compute the detector responses and their derivatives"
   ]
  },
  {
   "cell_type": "code",
   "execution_count": 19,
   "metadata": {},
   "outputs": [
    {
     "name": "stderr",
     "output_type": "stream",
     "text": [
      "2023-10-26 17:52:45,422 - Network - INFO : Calculate numeric derivatives of detector responses.\n",
      "2023-10-26 17:52:45,424 - Network - INFO :    aLIGO_H\n",
      "2023-10-26 17:52:48,155 - Network - INFO :    aLIGO_L\n",
      "2023-10-26 17:52:50,805 - Network - INFO :    aLIGO_V\n",
      "2023-10-26 17:52:53,527 - Network - INFO : Numeric derivatives of detector responses calculated.\n"
     ]
    }
   ],
   "source": [
    "net.calc_det_responses_derivs_num()\n"
   ]
  },
  {
   "cell_type": "code",
   "execution_count": 20,
   "metadata": {},
   "outputs": [
    {
     "name": "stdout",
     "output_type": "stream",
     "text": [
      "{'del_log_Mc_hf': array([-3.08333927e-23+1.01902006e-22j, -5.47251118e-22+3.47761180e-22j,\n",
      "       -4.09795335e-22-1.34631191e-21j, ...,\n",
      "        0.00000000e+00+0.00000000e+00j,  0.00000000e+00+0.00000000e+00j,\n",
      "        0.00000000e+00+0.00000000e+00j]), 'del_eta_hf': array([-1.10419346e-23+3.64921476e-23j,  8.65368977e-23-1.42674202e-22j,\n",
      "        1.41802964e-22+2.92166029e-22j, ...,\n",
      "        0.00000000e+00+0.00000000e+00j,  0.00000000e+00+0.00000000e+00j,\n",
      "        0.00000000e+00+0.00000000e+00j]), 'del_a_1_hf': array([-1.33968700e-24+4.42755031e-24j,  1.91206133e-23-2.03810782e-23j,\n",
      "        1.71592320e-23+4.88701687e-23j, ...,\n",
      "        0.00000000e+00+0.00000000e+00j,  0.00000000e+00+0.00000000e+00j,\n",
      "        0.00000000e+00+0.00000000e+00j]), 'del_cos_tilt_1_hf': array([ 1.67110188e-24+5.05648447e-25j, -6.42012669e-19+6.42725270e-19j,\n",
      "        2.89643496e-23+7.73436299e-23j, ...,\n",
      "       -0.00000000e+00+0.00000000e+00j, -0.00000000e+00+0.00000000e+00j,\n",
      "       -0.00000000e+00+0.00000000e+00j]), 'del_DL_hf': array([ 9.69201040e-26-3.20247964e-25j,  2.34935879e-25+2.34675401e-25j,\n",
      "       -3.11828278e-25+1.06757660e-25j, ...,\n",
      "        0.00000000e+00+0.00000000e+00j,  0.00000000e+00+0.00000000e+00j,\n",
      "        0.00000000e+00+0.00000000e+00j]), 'del_tc_hf': array([-9.45741843e-21-2.86166212e-21j,  6.97390066e-21-6.98164132e-21j,\n",
      "        3.19217389e-21+9.32401565e-21j, ...,\n",
      "        0.00000000e+00+0.00000000e+00j,  0.00000000e+00+0.00000000e+00j,\n",
      "        0.00000000e+00+0.00000000e+00j]), 'del_phic_hf': array([ 1.50519482e-22+4.55447895e-23j, -1.10303662e-22+1.10426077e-22j,\n",
      "       -5.01777919e-23-1.46564269e-22j, ...,\n",
      "        0.00000000e+00+0.00000000e+00j,  0.00000000e+00+0.00000000e+00j,\n",
      "        0.00000000e+00+0.00000000e+00j])}\n"
     ]
    }
   ],
   "source": [
    "\n",
    "h=net.detectors[2].del_hf\n",
    "print(h)"
   ]
  },
  {
   "cell_type": "markdown",
   "metadata": {},
   "source": [
    "#### calculate the network and detector SNRs"
   ]
  },
  {
   "cell_type": "code",
   "execution_count": 21,
   "metadata": {},
   "outputs": [
    {
     "name": "stderr",
     "output_type": "stream",
     "text": [
      "2023-10-26 17:52:53,598 - Network - INFO : SNRs calculated.\n"
     ]
    },
    {
     "name": "stdout",
     "output_type": "stream",
     "text": [
      "4.699393124793044\n",
      "7.405778707886583\n",
      "77.4746821975494\n",
      "77.96958532416866\n"
     ]
    }
   ],
   "source": [
    "net.calc_snrs()\n",
    "print(net.detectors[0].snr)\n",
    "print(net.detectors[1].snr)\n",
    "print(net.detectors[2].snr)\n",
    "net_opt_snr = np.linalg.norm([net.detectors[0].snr, net.detectors[1].snr, net.detectors[2].snr])\n",
    "print(net_opt_snr)"
   ]
  },
  {
   "cell_type": "markdown",
   "metadata": {},
   "source": [
    "#### \n",
    "calculate the network and detector Fisher matrices, condition numbers, covariance matrices, error estimates, and inversion errors"
   ]
  },
  {
   "cell_type": "code",
   "execution_count": 22,
   "metadata": {},
   "outputs": [
    {
     "name": "stderr",
     "output_type": "stream",
     "text": [
      "2023-10-26 17:52:53,639 - Network - INFO : Calculate errors (Fisher & cov matrices).\n",
      "2023-10-26 17:52:53,643 - Network - INFO :    aLIGO_H\n",
      "2023-10-26 17:52:53,729 - Network - INFO :    aLIGO_L\n",
      "2023-10-26 17:52:53,828 - Network - INFO :    aLIGO_V\n",
      "2023-10-26 17:52:53,903 - Network - INFO : Errors calculated.\n"
     ]
    }
   ],
   "source": [
    "net.calc_errors()"
   ]
  },
  {
   "cell_type": "markdown",
   "metadata": {},
   "source": [
    "#### calculate the 90%-credible sky area (in deg)"
   ]
  },
  {
   "cell_type": "code",
   "execution_count": 23,
   "metadata": {},
   "outputs": [
    {
     "name": "stderr",
     "output_type": "stream",
     "text": [
      "2023-10-26 17:52:53,910 - Network - WARNING : calc_sky_area_90: tag = network - Nothing done due to missing of either RA or COS_DEC (DEC) errors.\n"
     ]
    }
   ],
   "source": [
    "net.calc_sky_area_90()"
   ]
  },
  {
   "cell_type": "code",
   "execution_count": 24,
   "metadata": {},
   "outputs": [
    {
     "name": "stdout",
     "output_type": "stream",
     "text": [
      "16224\n"
     ]
    }
   ],
   "source": [
    "h_ul=net.detectors[2].hf\n",
    "print(len(h_ul))\n",
    "A_ul=np.abs(h_ul)\n",
    "phi_ul= np.angle(h_ul)"
   ]
  },
  {
   "cell_type": "code",
   "execution_count": 25,
   "metadata": {},
   "outputs": [
    {
     "name": "stdout",
     "output_type": "stream",
     "text": [
      "7\n",
      "['del_log_Mc_hf', 'del_eta_hf', 'del_a_1_hf', 'del_cos_tilt_1_hf', 'del_DL_hf', 'del_tc_hf', 'del_phic_hf']\n",
      "16224\n",
      "[-1.33968700e-24+4.42755031e-24j  1.91206133e-23-2.03810782e-23j\n",
      "  1.71592320e-23+4.88701687e-23j -8.02601150e-23-2.80862962e-24j\n",
      "  4.91772083e-23-9.76461785e-23j  9.05084993e-23+9.79838471e-23j\n",
      " -1.46504738e-22+6.63246912e-23j -2.23581881e-23-1.81980717e-22j\n",
      "  2.05881457e-22+2.81704824e-23j -8.23683233e-23+2.15574469e-22j]\n"
     ]
    }
   ],
   "source": [
    "f2=net.detectors[2].del_hf\n",
    "print(len(f2))\n",
    "#print(f2)\n",
    "key_list = list(f2.keys()) # returns a list containing the derivatives for each parameter.\n",
    "print(key_list)\n",
    "#for i in range(len(key_list)):\n",
    "#print(f2[key_list[0]])\n",
    "print(len(f2[key_list[4]]))\n",
    "a=f2[key_list[2]]\n",
    "print(a[:10])"
   ]
  },
  {
   "cell_type": "code",
   "execution_count": 26,
   "metadata": {
    "scrolled": true
   },
   "outputs": [
    {
     "name": "stdout",
     "output_type": "stream",
     "text": [
      "[[ 5.51400112e+08 -3.25783880e+08 -5.06597273e+07  6.24160088e+09\n",
      "  -9.85229758e+00 -9.81786067e+08  1.80433100e+06]\n",
      " [-3.25783880e+08  1.95583531e+08  3.02746613e+07 -3.64906915e+09\n",
      "  -1.98747059e+01  6.24578854e+08 -1.05490865e+06]\n",
      " [-5.06597273e+07  3.02746613e+07  4.69480771e+06 -5.68517511e+08\n",
      "  -1.60292406e+00  9.47313818e+07 -1.64385648e+05]\n",
      " [ 6.24160088e+09 -3.64906915e+09 -5.68517511e+08  1.22210628e+11\n",
      "  -2.07558258e+01 -1.07797363e+10  2.07602211e+07]\n",
      " [-9.85229758e+00 -1.98747059e+01 -1.60292406e+00 -2.07558258e+01\n",
      "   3.45881202e-02 -2.35802820e-02 -5.78152693e-04]\n",
      " [-9.81786067e+08  6.24578854e+08  9.47313818e+07 -1.07797363e+10\n",
      "  -2.35802820e-02  2.58773564e+09 -3.10481720e+06]\n",
      " [ 1.80433100e+06 -1.05490865e+06 -1.64385648e+05  2.07602211e+07\n",
      "  -5.78152693e-04 -3.10481720e+06  6.00233263e+03]]\n"
     ]
    }
   ],
   "source": [
    "f3=net.detectors[2].fisher\n",
    "print(f3)"
   ]
  },
  {
   "cell_type": "code",
   "execution_count": 27,
   "metadata": {},
   "outputs": [
    {
     "name": "stdout",
     "output_type": "stream",
     "text": [
      "[1.23611288e+11 1.80334392e+09 1.34822617e+08 5.91700675e+05\n",
      " 1.61092418e+03 4.26219837e+01 3.23144713e-02]\n"
     ]
    }
   ],
   "source": [
    "u,v = np.linalg.eig(f3)\n",
    "print(u)\n"
   ]
  },
  {
   "cell_type": "code",
   "execution_count": 28,
   "metadata": {},
   "outputs": [
    {
     "name": "stdout",
     "output_type": "stream",
     "text": [
      "[[ 1.81193286e-06  2.82751557e-07  1.25711422e-05 -8.93313826e-11\n",
      "   1.25807768e-03 -5.74935939e-08 -1.80127652e-04]\n",
      " [ 2.82751557e-07  1.39637104e-05 -8.47343617e-05 -2.60763702e-11\n",
      "   4.17564483e-03 -2.71190999e-07 -9.16819554e-05]\n",
      " [ 1.25711422e-05 -8.47343617e-05  6.37515623e-04 -6.35813346e-10\n",
      "  -1.55739514e-02  1.13229635e-06 -6.23479369e-04]\n",
      " [-8.93313826e-11 -2.60763702e-11 -6.35813346e-10  1.98442617e-11\n",
      "  -5.90081406e-08  4.79964939e-12 -6.12949478e-08]\n",
      " [ 1.25807768e-03  4.17564483e-03 -1.55739514e-02 -5.90081406e-08\n",
      "   3.09453106e+01 -1.19636716e-04 -1.32516131e-01]\n",
      " [-5.74935939e-08 -2.71190999e-07  1.13229635e-06  4.79964939e-12\n",
      "  -1.19636716e-04  8.79061712e-09  5.16175351e-06]\n",
      " [-1.80127652e-04 -9.16819554e-05 -6.23479369e-04 -6.12949478e-08\n",
      "  -1.32516131e-01  5.16175351e-06  2.40075812e-02]]\n"
     ]
    }
   ],
   "source": [
    "cov_matrix =net.detectors[2].cov\n",
    "print(cov_matrix)"
   ]
  },
  {
   "cell_type": "code",
   "execution_count": 29,
   "metadata": {},
   "outputs": [
    {
     "name": "stdout",
     "output_type": "stream",
     "text": [
      "0.0013460806\n",
      "0.003736805\n",
      "0.025249071\n",
      "4.45469e-06\n",
      "5.562851\n",
      "9.375829e-05\n",
      "0.1549438\n"
     ]
    }
   ],
   "source": [
    "for i in np.arange(0,7):\n",
    "   err= np.sqrt(cov_matrix[i,i])\n",
    "   print(err)\n",
    "                \n"
   ]
  },
  {
   "cell_type": "code",
   "execution_count": 30,
   "metadata": {},
   "outputs": [
    {
     "name": "stdout",
     "output_type": "stream",
     "text": [
      "3825261048275.713\n"
     ]
    }
   ],
   "source": [
    "from gwbench import fisher_analysis_tools\n",
    "n=fisher_analysis_tools.calc_cond_number(f3)\n",
    "print(n)"
   ]
  },
  {
   "cell_type": "code",
   "execution_count": 31,
   "metadata": {},
   "outputs": [],
   "source": [
    "# n = 7\n",
    "# prior_matrix = np.zeros((n, n), dtype=float)\n",
    "# prior_matrix[2,2] = 1\n",
    "# prior_matrix[4,4] = 1\n",
    "# prior_matrix[8,8] = 1/(np.pi**2)\n",
    "# #print(prior_matrix)\n",
    "# prior_fisher = f3 + prior_matrix\n",
    "# print(prior_fisher)"
   ]
  },
  {
   "cell_type": "code",
   "execution_count": 32,
   "metadata": {},
   "outputs": [],
   "source": [
    "# def invertSVD(matrix):\n",
    "#     '''\n",
    "#     Adapted from GWFish\n",
    "#     '''\n",
    "#     thresh = 1e-10\n",
    "\n",
    "#     dm = np.sqrt(np.diag(matrix))\n",
    "#     normalizer = np.outer(dm, dm)\n",
    "#     matrix_norm = matrix / normalizer\n",
    "\n",
    "#     [U, S, Vh] = np.linalg.svd(matrix_norm)\n",
    "\n",
    "#     kVal = sum(S > thresh)\n",
    "#     matrix_inverse_norm = U[:, 0:kVal] @ np.diag(1. / S[0:kVal]) @ Vh[0:kVal, :]\n",
    "\n",
    "#     # print(matrix @ (matrix_inverse_norm / normalizer))\n",
    "\n",
    "#     return matrix_inverse_norm / normalizer, S"
   ]
  },
  {
   "cell_type": "code",
   "execution_count": 33,
   "metadata": {},
   "outputs": [],
   "source": [
    "# new_cov = invertSVD(prior_fisher)\n",
    "# print(new_cov[0])"
   ]
  },
  {
   "cell_type": "code",
   "execution_count": 34,
   "metadata": {},
   "outputs": [],
   "source": [
    "# for i in np.arange(0,9):\n",
    "#    err= np.sqrt(new_cov[0][i,i])\n",
    "#    print(err)"
   ]
  },
  {
   "cell_type": "markdown",
   "metadata": {},
   "source": [
    "#### calculation of systematic errors"
   ]
  },
  {
   "cell_type": "code",
   "execution_count": 31,
   "metadata": {},
   "outputs": [
    {
     "name": "stdout",
     "output_type": "stream",
     "text": [
      "59\n"
     ]
    }
   ],
   "source": [
    "from gwbench.wf_models import py_lgw\n",
    "lgw = py_lgw.lensed_wf_gen()\n",
    "x = (1e1, 5e1, 1e2, 5e2, 1e3, 5e3, 1e4, 5e4, 1e5)\n",
    "y = (0.01, 0.05, 0.1, 0.5, 1.0, 3.0, 5.0)\n",
    "chirp_time = lgw.tchirp_2PN(64.25, 0.249, f_low=10) # returns the chirptime given the total mass,eta and low frequency cut off.\n",
    "#print(chirp_time)\n",
    "ml_y_pairs = []\n",
    "for i in x:\n",
    "    for j in y:\n",
    "        time_delay= lgw.td_point_sec(i, j, zl=0)\n",
    "        if time_delay < chirp_time:\n",
    "            pairs = (i,j)\n",
    "            ml_y_pairs.append(pairs)\n",
    "\n",
    "print(len(ml_y_pairs))  "
   ]
  },
  {
   "cell_type": "code",
   "execution_count": 32,
   "metadata": {},
   "outputs": [
    {
     "name": "stdout",
     "output_type": "stream",
     "text": [
      "59\n"
     ]
    }
   ],
   "source": [
    "delta_h_list=[]\n",
    "for i,j in  ml_y_pairs:\n",
    "        fs = net.detectors[2].f # returns the truncated frequency array tto the range dictated by the given detector’s PSD\n",
    "        ws = lgw.w_of_f(fs, ml=i) #Converts a dimensionful frequency (f) to the dimensionless frequency (w)\n",
    "        Fws = lgw.point_Fw_eff_map(ws,j) # returns an array containing amplification factors\n",
    "    \n",
    "        #calculation of  amplitude differences and (A_l-A_ul) and Phase differences using the analytical formula.\n",
    "        R = np.abs(Fws)\n",
    "        phi = np.angle(Fws)\n",
    "        delta_A = A_ul*(R-1)\n",
    "        delta_phi = phi\n",
    "\n",
    "        # calculation of deta_h (h_l-h_ul) (reference - Eq.30 arXiv:0707.2982)\n",
    "        delta_h = (delta_A + 1j*A_ul*delta_phi)*np.exp(1j*phi_ul)\n",
    "        delta_h_list.append(delta_h)\n",
    "\n",
    "print(len(delta_h_list))"
   ]
  },
  {
   "cell_type": "code",
   "execution_count": 33,
   "metadata": {},
   "outputs": [
    {
     "name": "stdout",
     "output_type": "stream",
     "text": [
      "413\n"
     ]
    }
   ],
   "source": [
    "import gwbench.snr as snr_mod\n",
    "inner_product_list=[]\n",
    "for j in range(len(delta_h_list)):\n",
    "    for i in range(len(key_list)):\n",
    "         inner_product = snr_mod.scalar_product_freq_array(delta_h_list[j], f2[key_list[i]], net.detectors[2].psd, fs)\n",
    "         inner_product_list.append(inner_product)\n",
    "print(len(inner_product_list))"
   ]
  },
  {
   "cell_type": "code",
   "execution_count": 34,
   "metadata": {},
   "outputs": [
    {
     "name": "stdout",
     "output_type": "stream",
     "text": [
      "59\n",
      "[617.6294443095513, 1157.1626462548795, 93.38614120764434, 12489.72056110271, -1.5643521032319, -1.2418454534757881, 0.052103866794385806]\n"
     ]
    }
   ],
   "source": [
    "inner_list_length = 7\n",
    "sep_inner_product = [inner_product_list[i:i + inner_list_length] for i in range(0, len(inner_product_list), inner_list_length)]\n",
    "print(len(sep_inner_product))\n",
    "print(sep_inner_product[58])\n",
    "#print(sep_inner_product[1])\n"
   ]
  },
  {
   "cell_type": "code",
   "execution_count": 35,
   "metadata": {},
   "outputs": [
    {
     "name": "stdout",
     "output_type": "stream",
     "text": [
      "59\n",
      "[5.76455554e-02 5.76384042e-02 5.76160540e-02 5.69011692e-02\n",
      " 5.46729321e-02 3.24941764e-02 7.53607670e-03 2.91859002e-01\n",
      " 2.91586244e-01 2.90734409e-01 2.63934887e-01 1.87045189e-01\n",
      " 9.53640850e-03 1.63239806e-03 5.60527695e-01 5.59040632e-01\n",
      " 5.54405932e-01 4.16190634e-01 1.65308318e-01 2.05545282e-04\n",
      " 9.02797727e-04 1.98370245e+00 1.90272175e+00 1.66640853e+00\n",
      " 3.52702470e-01 8.07357657e-02 4.91023458e-03 9.31376559e-04\n",
      " 3.09763769e+00 2.66344927e+00 1.76001142e+00 2.69132967e-01\n",
      " 7.81318523e-02 4.02113007e-03 9.30601707e-04 6.88392631e+00\n",
      " 2.58490661e+00 1.33197684e+00 2.91842368e-01 8.77792900e-02\n",
      " 4.85289084e-03 2.82226875e-04 7.19627797e+00 2.16817964e+00\n",
      " 1.35233203e+00 2.88650100e-01 8.81577977e-02 5.29316149e-03\n",
      " 1.11380857e-03 5.71733225e+00 2.30223112e+00 1.41699446e+00\n",
      " 2.91178115e-01 9.11767137e-02 5.89867109e+00 2.30382209e+00\n",
      " 1.44215291e+00 2.86351662e-01 9.41751488e-02]\n"
     ]
    }
   ],
   "source": [
    "delta_p_list=[]\n",
    "\n",
    "for i in range (len(sep_inner_product)):\n",
    "    error =0\n",
    "    for j in range (0,7):\n",
    "      \n",
    "           error += cov_matrix[4,j]* sep_inner_product[i][j]\n",
    "    delta_p_list.append(error)\n",
    "\n",
    "print(len(delta_p_list))\n",
    "abs_err= np.abs(delta_p_list)/470\n",
    "print(abs_err)"
   ]
  },
  {
   "cell_type": "code",
   "execution_count": 36,
   "metadata": {},
   "outputs": [
    {
     "name": "stdout",
     "output_type": "stream",
     "text": [
      "22\n",
      "[   100.    100.    100.    100.    500.    500.    500.   1000.   1000.\n",
      "   1000.   5000.   5000.   5000.  10000.  10000.  10000.  50000.  50000.\n",
      "  50000. 100000. 100000. 100000.]\n",
      "[0.01 0.05 0.1  0.5  0.01 0.05 0.1  0.01 0.05 0.1  0.01 0.05 0.1  0.01\n",
      " 0.05 0.1  0.01 0.05 0.1  0.01 0.05 0.1 ]\n",
      "[0.56052769 0.55904063 0.55440593 0.41619063 1.98370245 1.90272175\n",
      " 1.66640853 3.09763769 2.66344927 1.76001142 6.88392631 2.58490661\n",
      " 1.33197684 7.19627797 2.16817964 1.35233203 5.71733225 2.30223112\n",
      " 1.41699446 5.89867109 2.30382209 1.44215291]\n"
     ]
    }
   ],
   "source": [
    "samples= np.column_stack(ml_y_pairs).T\n",
    "masses =np.array(samples[:,0])\n",
    "y= np.array(samples[:, 1])\n",
    "err=np.array(abs_err)\n",
    "indices = np.where(abs_err>0.4)\n",
    "ml_check = masses[indices]\n",
    "y_check = y[indices]\n",
    "err_check = err[indices]\n",
    "print(len(ml_check))\n",
    "print(ml_check)\n",
    "print(y_check)\n",
    "print(err_check)"
   ]
  },
  {
   "cell_type": "code",
   "execution_count": 37,
   "metadata": {},
   "outputs": [
    {
     "data": {
      "image/png": "[encoded data removed]",
      "text/plain": [
       "<Figure size 640x480 with 2 Axes>"
      ]
     },
     "metadata": {},
     "output_type": "display_data"
    }
   ],
   "source": [
    "import matplotlib.pyplot as plt\n",
    "\n",
    "map = plt.cm.get_cmap('viridis')\n",
    "reversed_map= map.reversed(map) \n",
    "plot = plt.scatter(samples[:, 0], samples[:, 1], c=abs_err, cmap=reversed_map,  s=10)\n",
    "plt.xlabel(r'$\\log \\mathcal{M}_{lz}$')\n",
    "plt.ylabel(r'$y$')\n",
    "plt.xscale('log')\n",
    "plt.yscale('log')\n",
    "# ticks_list = []\n",
    "cbar = plt.colorbar(plot)\n",
    "# cbar.set_ticklabels(list(map(str, ticks_list)))\n",
    "plt.title('Relative Errors')\n",
    "plt.savefig('Abs_Errors in eta.png',dpi=300, bbox_inches='tight')\n",
    "plt.show()"
   ]
  },
  {
   "cell_type": "code",
   "execution_count": 43,
   "metadata": {},
   "outputs": [
    {
     "name": "stdout",
     "output_type": "stream",
     "text": [
      "11.084436511156072\n"
     ]
    }
   ],
   "source": [
    "fs = net.detectors[0].f # returns the truncated frequency array tto the range dictated by the given detector’s PSD\n",
    "ws = lgw.w_of_f(fs, ml=10000) #Converts a dimensionful frequency (f) to the dimensionless frequency (w)\n",
    "Fws = lgw.point_Fw_eff_map(ws,0.01)\n",
    "h_l = h_ul*Fws\n",
    "#print(len(h_l))\n",
    "snr_ul=snr_mod.snr_freq_array(h_ul,net.detectors[2].psd,fs)\n",
    "snr_l =snr_mod.snr_freq_array(h_l,net.detectors[2].psd,fs)\n",
    "print(snr_l/snr_ul)"
   ]
  },
  {
   "cell_type": "markdown",
   "metadata": {},
   "source": [
    "### Systematic error propogation for spin parameters"
   ]
  },
  {
   "cell_type": "code",
   "execution_count": 57,
   "metadata": {},
   "outputs": [
    {
     "name": "stdout",
     "output_type": "stream",
     "text": [
      "59\n",
      "[1.01005824e-02 1.00969771e-02 1.00857030e-02 9.72503810e-03\n",
      " 8.60263102e-03 1.36717923e-03 1.21650088e-03 4.65274452e-02\n",
      " 4.63610627e-02 4.58420098e-02 2.99955107e-02 8.42509242e-03\n",
      " 2.12416571e-03 4.60257762e-04 7.58293298e-02 7.48891941e-02\n",
      " 7.19733251e-02 4.19563885e-03 5.00343866e-03 1.69443495e-03\n",
      " 1.71578258e-04 1.84927301e-01 1.34843657e-01 6.87340847e-03\n",
      " 1.59075090e-02 2.11505838e-06 2.04266441e-04 1.40327159e-05\n",
      " 2.57022084e-01 1.44725298e-02 1.59203886e-02 9.81711767e-04\n",
      " 2.73986593e-03 3.01466565e-04 2.65730052e-05 4.68068665e-02\n",
      " 4.91906613e-02 1.74433741e-02 4.70006494e-03 7.44074192e-05\n",
      " 1.91379064e-04 9.72747551e-05 2.90887259e-02 3.18624946e-02\n",
      " 2.74532554e-02 3.46412237e-03 1.79783884e-03 5.18799446e-04\n",
      " 1.21887784e-04 9.43712586e-02 3.57074319e-02 2.23601495e-02\n",
      " 4.03022926e-03 7.27114535e-04 1.09441938e-01 3.65856525e-02\n",
      " 2.29337716e-02 5.69672831e-03 3.93275573e-03]\n"
     ]
    }
   ],
   "source": [
    "delta_eta_list=[]\n",
    "\n",
    "for i in range (len(sep_inner_product)):\n",
    "    error =0\n",
    "    for j in range (0,9):\n",
    "      \n",
    "           error += cov_matrix[1,j]* sep_inner_product[i][j]\n",
    "    delta_eta_list.append(error)\n",
    "\n",
    "print(len(delta_eta_list))\n",
    "eta_err=np.abs(delta_eta_list)\n",
    "print(eta_err)"
   ]
  },
  {
   "cell_type": "code",
   "execution_count": 58,
   "metadata": {},
   "outputs": [
    {
     "name": "stdout",
     "output_type": "stream",
     "text": [
      "59\n",
      "[8.52319234e-02 8.51539577e-02 8.49114474e-02 7.72028625e-02\n",
      " 5.36014812e-02 1.17486362e-01 2.81049243e-02 3.80150552e-01\n",
      " 3.76485377e-01 3.65061831e-01 2.04291554e-02 7.06901300e-01\n",
      " 4.47203987e-02 3.62420242e-02 4.56765457e-01 4.35870126e-01\n",
      " 3.71098004e-01 1.25785878e+00 4.64117958e-01 2.89304199e-02\n",
      " 3.76625171e-02 4.48564848e-01 1.56546177e+00 4.42051847e+00\n",
      " 5.56990019e-01 3.93042120e-01 5.29479477e-02 6.27597850e-03\n",
      " 1.40926874e+00 6.83477068e+00 6.20985693e+00 2.79614849e-01\n",
      " 3.49888860e-01 5.56444218e-02 6.87270247e-03 1.69477995e+01\n",
      " 2.08936928e+00 1.46806223e+00 5.49833763e-01 3.49996378e-01\n",
      " 4.67205137e-03 8.00359830e-03 2.54421806e+01 3.10427557e+00\n",
      " 2.74545974e+00 6.38134065e-01 1.30897207e-01 4.26267220e-02\n",
      " 1.34077786e-02 1.02551808e+01 4.39553137e+00 2.47890752e+00\n",
      " 5.79092580e-01 2.39061745e-01 1.03464805e+01 4.02785928e+00\n",
      " 2.46373482e+00 4.19963611e-01 1.08934320e-01]\n"
     ]
    }
   ],
   "source": [
    "delta_chi1_list=[]\n",
    "\n",
    "for i in range (len(sep_inner_product)):\n",
    "    error =0\n",
    "    for j in range (0,9):\n",
    "      \n",
    "           error += cov_matrix[2,j]* sep_inner_product[i][j]\n",
    "    delta_chi1_list.append(error)\n",
    "\n",
    "print(len(delta_chi1_list))\n",
    "chi1_err=np.abs(delta_chi1_list)\n",
    "print(chi1_err)\n"
   ]
  },
  {
   "cell_type": "code",
   "execution_count": 59,
   "metadata": {},
   "outputs": [
    {
     "name": "stdout",
     "output_type": "stream",
     "text": [
      "59\n",
      "1.4295486334225616\n"
     ]
    }
   ],
   "source": [
    "delta_tilt1_list=[]\n",
    "\n",
    "for i in range (len(sep_inner_product)):\n",
    "    error =0\n",
    "    for j in range (0,9):\n",
    "      \n",
    "           error += cov_matrix[3,j]* sep_inner_product[i][j]\n",
    "    delta_tilt1_list.append(error)\n",
    "\n",
    "print(len(delta_tilt1_list))\n",
    "tilt1_err=np.abs(delta_tilt1_list)\n",
    "print(max(tilt1_err))"
   ]
  },
  {
   "cell_type": "code",
   "execution_count": 56,
   "metadata": {},
   "outputs": [
    {
     "name": "stdout",
     "output_type": "stream",
     "text": [
      "59\n",
      "[2.60061671e-02 2.59432251e-02 2.57422159e-02 1.92826478e-02\n",
      " 3.71795519e-04 1.25310868e-01 1.25133026e-02 1.14779082e-01\n",
      " 1.11680064e-01 1.01996591e-01 1.88754699e-01 7.55246146e-01\n",
      " 3.53902464e-02 3.82694672e-02 2.16516709e-02 3.87809196e-03\n",
      " 5.12591630e-02 1.41186258e+00 3.75125851e-01 2.09433769e-02\n",
      " 3.92791941e-02 1.60755531e+00 2.56031661e+00 4.99756423e+00\n",
      " 7.52131557e-01 3.93358652e-01 5.57599800e-02 6.45142391e-03\n",
      " 3.10326674e+00 7.74041905e+00 6.63687186e+00 2.13191177e-01\n",
      " 3.78907016e-01 6.20353615e-02 7.54936772e-03 1.92470552e+01\n",
      " 2.58996267e+00 1.89378390e+00 6.49806494e-01 3.95859030e-01\n",
      " 4.27482393e-03 8.69112379e-03 2.86475347e+01 3.81983064e+00\n",
      " 3.16157363e+00 7.41131837e-01 1.54639138e-01 4.63574745e-02\n",
      " 1.45250309e-02 1.22075734e+01 5.13891147e+00 2.90625808e+00\n",
      " 6.74822911e-01 2.74513594e-01 1.21076023e+01 4.71977567e+00\n",
      " 2.88659217e+00 5.01882948e-01 1.07838358e-01]\n"
     ]
    }
   ],
   "source": [
    "delta_chi2_list=[]\n",
    "\n",
    "for i in range (len(sep_inner_product)):\n",
    "    error =0\n",
    "    for j in range (0,9):\n",
    "      \n",
    "           error += cov_matrix[4,j]* sep_inner_product[i][j]\n",
    "    delta_chi2_list.append(error)\n",
    "\n",
    "print(len(delta_chi2_list))\n",
    "chi2_err=np.abs(delta_chi2_list)\n",
    "print(chi2_err)\n"
   ]
  },
  {
   "cell_type": "code",
   "execution_count": 63,
   "metadata": {},
   "outputs": [
    {
     "name": "stdout",
     "output_type": "stream",
     "text": [
      "59\n",
      "0.8251796180682653\n"
     ]
    }
   ],
   "source": [
    "delta_tilt2_list=[]\n",
    "\n",
    "for i in range (len(sep_inner_product)):\n",
    "    error =0\n",
    "    for j in range (0,9):\n",
    "      \n",
    "           error += cov_matrix[5,j]* sep_inner_product[i][j]\n",
    "    delta_tilt2_list.append(error)\n",
    "\n",
    "print(len(delta_tilt2_list))\n",
    "tilt2_err=np.abs(delta_tilt2_list)\n",
    "print(max(tilt2_err))"
   ]
  },
  {
   "cell_type": "code",
   "execution_count": 51,
   "metadata": {},
   "outputs": [
    {
     "name": "stdout",
     "output_type": "stream",
     "text": [
      "9.999999999833334e-06\n"
     ]
    }
   ],
   "source": [
    "eta = 0.249\n",
    "chi_1 = 1e-5\n",
    "chi_2 = 1e-5\n",
    "tilt_1 = 1e-5\n",
    "tilt_2 = 1e-5\n",
    "print(np.sin(tilt_1))"
   ]
  },
  {
   "cell_type": "code",
   "execution_count": 53,
   "metadata": {},
   "outputs": [
    {
     "data": {
      "image/png": "[encoded data removed]",
      "text/plain": [
       "<Figure size 640x480 with 2 Axes>"
      ]
     },
     "metadata": {},
     "output_type": "display_data"
    }
   ],
   "source": [
    "chip_err =chi1_err* np.sin(tilt_1)+ chi_1*np.cos(tilt_1)*tilt1_err\n",
    "#print(chip_err)\n",
    "import matplotlib.pyplot as plt\n",
    "\n",
    "map = plt.cm.get_cmap('viridis')\n",
    "reversed_map= map.reversed(map) \n",
    "plot = plt.scatter(samples[:, 0], samples[:, 1], c=chip_err, cmap=reversed_map,  s=10)\n",
    "plt.xlabel(r'$\\log \\mathcal{M}_{lz}$')\n",
    "plt.ylabel(r'$y$')\n",
    "plt.xscale('log')\n",
    "plt.yscale('log')\n",
    "# ticks_list = []\n",
    "cbar = plt.colorbar(plot)\n",
    "# cbar.set_ticklabels(list(map(str, ticks_list)))\n",
    "plt.title('Absolute Errors')\n",
    "plt.savefig('Abs_Errors in chip.png',dpi=300, bbox_inches='tight')\n",
    "plt.show()"
   ]
  },
  {
   "cell_type": "code",
   "execution_count": 66,
   "metadata": {},
   "outputs": [
    {
     "name": "stdout",
     "output_type": "stream",
     "text": [
      "59\n"
     ]
    }
   ],
   "source": [
    "chi_eff_err =1/2 * (1+np.sqrt(1-4*eta))*np.cos(tilt_1)*chi1_err+1/(np.sqrt(1-4*eta))*(chi_2*np.cos(tilt_2)-chi_1*np.cos(tilt_1))*eta_err- 1/2 * (1+np.sqrt(1-4*eta))*np.sin(tilt_1)*chi_1*tilt1_err+1/2*(1-np.sqrt(1-4*eta))*np.cos(tilt_2)*chi2_err- 1/2 * (1-np.sqrt(1-4*eta))*np.sin(tilt_2)*chi_2*tilt2_err\n",
    "print(len(chi_eff_err))"
   ]
  },
  {
   "cell_type": "code",
   "execution_count": 67,
   "metadata": {},
   "outputs": [
    {
     "data": {
      "image/png": "[encoded data removed]",
      "text/plain": [
       "<Figure size 640x480 with 2 Axes>"
      ]
     },
     "metadata": {},
     "output_type": "display_data"
    }
   ],
   "source": [
    "import matplotlib.pyplot as plt\n",
    "\n",
    "map = plt.cm.get_cmap('viridis')\n",
    "reversed_map= map.reversed(map) \n",
    "plot = plt.scatter(samples[:, 0], samples[:, 1], c=chi_eff_err, cmap=reversed_map,  s=10)\n",
    "plt.xlabel(r'$\\log \\mathcal{M}_{lz}$')\n",
    "plt.ylabel(r'$y$')\n",
    "plt.xscale('log')\n",
    "plt.yscale('log')\n",
    "# ticks_list = []\n",
    "cbar = plt.colorbar(plot)\n",
    "# cbar.set_ticklabels(list(map(str, ticks_list)))\n",
    "plt.title('Absolute Errors')\n",
    "plt.savefig('Abs_Errors in chieff.png',dpi=300, bbox_inches='tight')\n",
    "plt.show()"
   ]
  },
  {
   "cell_type": "code",
   "execution_count": null,
   "metadata": {},
   "outputs": [],
   "source": []
  }
 ],
 "metadata": {
  "kernelspec": {
   "display_name": "Python 3 (ipykernel)",
   "language": "python",
   "name": "python3"
  },
  "language_info": {
   "codemirror_mode": {
    "name": "ipython",
    "version": 3
   },
   "file_extension": ".py",
   "mimetype": "text/x-python",
   "name": "python",
   "nbconvert_exporter": "python",
   "pygments_lexer": "ipython3",
   "version": "3.10.12"
  }
 },
 "nbformat": 4,
 "nbformat_minor": 4
}
