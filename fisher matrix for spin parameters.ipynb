{
 "cells": [
  {
   "cell_type": "code",
   "execution_count": 1,
   "metadata": {},
   "outputs": [
    {
     "name": "stderr",
     "output_type": "stream",
     "text": [
      "/home/sreelakshmi/anaconda3/envs/igwn-py310/lib/python3.10/site-packages/pandas/core/computation/expressions.py:21: UserWarning: Pandas requires version '2.8.0' or newer of 'numexpr' (version '2.7.3' currently installed).\n",
      "  from pandas.core.computation.check import NUMEXPR_INSTALLED\n"
     ]
    }
   ],
   "source": [
    "import numpy as np\n",
    "from gwbench import network"
   ]
  },
  {
   "cell_type": "markdown",
   "metadata": {},
   "source": [
    "## User Choices"
   ]
  },
  {
   "cell_type": "markdown",
   "metadata": {},
   "source": [
    "#### choose the desired detectors"
   ]
  },
  {
   "cell_type": "code",
   "execution_count": 2,
   "metadata": {},
   "outputs": [],
   "source": [
    "\n",
    "network_spec = ['aLIGO_H','aLIGO_L','aLIGO_V']"
   ]
  },
  {
   "cell_type": "markdown",
   "metadata": {},
   "source": [
    "#### initialize the network with the desired detectors"
   ]
  },
  {
   "cell_type": "code",
   "execution_count": 3,
   "metadata": {},
   "outputs": [],
   "source": [
    "net = network.Network(network_spec)"
   ]
  },
  {
   "cell_type": "markdown",
   "metadata": {},
   "source": [
    "#### choose the desired waveform "
   ]
  },
  {
   "cell_type": "code",
   "execution_count": 4,
   "metadata": {},
   "outputs": [],
   "source": [
    "wf_model_name = 'lal_bbh_jframe'"
   ]
  },
  {
   "cell_type": "markdown",
   "metadata": {},
   "source": [
    "#### pass the chosen waveform to the network for initialization"
   ]
  },
  {
   "cell_type": "code",
   "execution_count": 5,
   "metadata": {},
   "outputs": [],
   "source": [
    "net.set_wf_vars(wf_model_name=wf_model_name)"
   ]
  },
  {
   "cell_type": "markdown",
   "metadata": {},
   "source": [
    "#### pick the desired frequency range"
   ]
  },
  {
   "cell_type": "code",
   "execution_count": 6,
   "metadata": {},
   "outputs": [
    {
     "name": "stdout",
     "output_type": "stream",
     "text": [
      "16304\n"
     ]
    }
   ],
   "source": [
    "f = np.arange(5.,1024,2**-4)\n",
    "print(len(f))"
   ]
  },
  {
   "cell_type": "markdown",
   "metadata": {},
   "source": [
    "#### set the injection parameters"
   ]
  },
  {
   "cell_type": "code",
   "execution_count": 7,
   "metadata": {},
   "outputs": [],
   "source": [
    "\n",
    "\n",
    "# inj_params = {\n",
    "#     'Mc':          27.9,\n",
    "#     'eta':         0.249,\n",
    "#     'a_1':         0.34,\n",
    "#     'a_2':         0.34,\n",
    "#     'tilt_1':      1e-5,\n",
    "#     'tilt_2':      1e-5,\n",
    "#     'phi_12':      1e-5,\n",
    "#     'phi_jl':      1e-5,\n",
    "#     'theta_jn':    0.,\n",
    "#     'DL':          200,\n",
    "#     'tc':          0,\n",
    "#     'phic':        0,\n",
    "#     'approximant': 'IMRPhenomXPHM',\n",
    "#     'ra':          np.pi/2,\n",
    "#     'dec':         np.pi/4,\n",
    "#     'psi':         np.pi/4,\n",
    "#     'gmst0':       0\n",
    "#     }"
   ]
  },
  {
   "cell_type": "code",
   "execution_count": 8,
   "metadata": {},
   "outputs": [],
   "source": [
    "inj_params = {\n",
    "    'Mc':          27.9,\n",
    "    'eta':         0.249,\n",
    "    'a_1':         0.3,\n",
    "    'a_2':         0.3,\n",
    "    'tilt_1':      np.pi/4,\n",
    "    'tilt_2':      0,\n",
    "    'phi_12':      0.,\n",
    "    'phi_jl':      0.,\n",
    "    'theta_jn':    0.,\n",
    "    'DL':          470.,\n",
    "    'tc':          0.,\n",
    "    'phic':        0.,\n",
    "    'approximant': 'IMRPhenomXP',\n",
    "    'ra':          np.pi/2,\n",
    "    'dec':         np.pi,\n",
    "    'psi':         np.pi/4,\n",
    "    'gmst0':       0.\n",
    "}"
   ]
  },
  {
   "cell_type": "code",
   "execution_count": 9,
   "metadata": {},
   "outputs": [
    {
     "name": "stdout",
     "output_type": "stream",
     "text": [
      "64.25169587301812\n",
      "34.15766496138084 30.09403091163728\n"
     ]
    }
   ],
   "source": [
    "\n",
    "from gwbench import basic_relations\n",
    "tot_mass = basic_relations.M_of_Mc_eta(27.9, 0.249)\n",
    "print(tot_mass)\n",
    "m1,m2 = basic_relations.m1_m2_of_M_eta(tot_mass,0.249)\n",
    "print(m1,m2)\n"
   ]
  },
  {
   "cell_type": "code",
   "execution_count": 10,
   "metadata": {},
   "outputs": [],
   "source": [
    "deriv_symbs_string = 'Mc eta a_1 tilt_1 DL tc phic'"
   ]
  },
  {
   "cell_type": "markdown",
   "metadata": {},
   "source": [
    "#### assign which parameters to convert to cos or log versions"
   ]
  },
  {
   "cell_type": "code",
   "execution_count": 11,
   "metadata": {},
   "outputs": [],
   "source": [
    "#conv_cos = ('tilt_1')\n",
    "#conv_log = ('Mc')  ##conv_cos= conv_cos, conv_log= conv_log,"
   ]
  },
  {
   "cell_type": "markdown",
   "metadata": {},
   "source": [
    "#### choose whether to take Earth's rotation into account"
   ]
  },
  {
   "cell_type": "code",
   "execution_count": 12,
   "metadata": {},
   "outputs": [],
   "source": [
    "use_rot = 0"
   ]
  },
  {
   "cell_type": "markdown",
   "metadata": {},
   "source": [
    "#### pass all these variables to the network"
   ]
  },
  {
   "cell_type": "code",
   "execution_count": 13,
   "metadata": {},
   "outputs": [],
   "source": [
    "net.set_net_vars(\n",
    "    f=f, inj_params=inj_params,\n",
    "    deriv_symbs_string=deriv_symbs_string,\n",
    "    use_rot=use_rot\n",
    "    )"
   ]
  },
  {
   "cell_type": "markdown",
   "metadata": {},
   "source": [
    "## GW benchmarking"
   ]
  },
  {
   "cell_type": "markdown",
   "metadata": {},
   "source": [
    "#### compute the WF polarizations"
   ]
  },
  {
   "cell_type": "code",
   "execution_count": 14,
   "metadata": {},
   "outputs": [
    {
     "name": "stderr",
     "output_type": "stream",
     "text": [
      "2023-11-18 13:30:25,259 - Network - INFO : Polarizations calculated.\n"
     ]
    },
    {
     "name": "stdout",
     "output_type": "stream",
     "text": [
      "None\n",
      "16304\n"
     ]
    }
   ],
   "source": [
    "#net.calc_wf_polarizations()\n",
    "print(net.calc_wf_polarizations())\n",
    "f0=net.hfc\n",
    "print(len(f0))\n",
    "#print(f0)"
   ]
  },
  {
   "cell_type": "markdown",
   "metadata": {},
   "source": [
    "#### compute the WF polarizations and their derivatives"
   ]
  },
  {
   "cell_type": "code",
   "execution_count": 15,
   "metadata": {
    "scrolled": true
   },
   "outputs": [
    {
     "name": "stderr",
     "output_type": "stream",
     "text": [
      "2023-11-18 13:30:25,292 - Network - INFO : Calculate numeric derivatives of polarizations.\n",
      "2023-11-18 13:30:25,337 - Network - INFO : Polarizations calculated.\n",
      "2023-11-18 13:30:30,476 - Network - INFO : Numeric derivatives of polarizations calculated.\n"
     ]
    }
   ],
   "source": [
    "net.calc_wf_polarizations_derivs_num()\n",
    "#f1=net.del_hfpc\n",
    "#print(len(f1))\n",
    "#print(f1)\n",
    "\n",
    "#for key in f1.keys():\n",
    "   #print(key)\n"
   ]
  },
  {
   "cell_type": "code",
   "execution_count": 16,
   "metadata": {},
   "outputs": [
    {
     "name": "stdout",
     "output_type": "stream",
     "text": [
      "14\n",
      "{'del_Mc_hfp': array([-8.21811976e-24-8.21799496e-24j, -2.98212289e-22-1.23087883e-22j,\n",
      "       -3.00293979e-22-5.48491100e-22j, ...,\n",
      "        0.00000000e+00+0.00000000e+00j,  0.00000000e+00+0.00000000e+00j,\n",
      "        0.00000000e+00+0.00000000e+00j]), 'del_Mc_hfc': array([-8.21805736e-24+8.21805736e-24j, -1.23087938e-22+2.98212242e-22j,\n",
      "       -5.48491219e-22+3.00294102e-22j, ...,\n",
      "        0.00000000e+00+0.00000000e+00j,  0.00000000e+00+0.00000000e+00j,\n",
      "        0.00000000e+00+0.00000000e+00j]), 'del_eta_hfp': array([-6.49157858e-23-6.49157858e-23j,  1.32663038e-21+3.95809130e-22j,\n",
      "        1.41746993e-21+2.29847604e-21j, ...,\n",
      "        0.00000000e+00+0.00000000e+00j,  0.00000000e+00+0.00000000e+00j,\n",
      "        0.00000000e+00+0.00000000e+00j]), 'del_eta_hfc': array([-6.49314622e-23+6.49314622e-23j,  3.95803679e-22-1.32660854e-21j,\n",
      "        2.29849140e-21-1.41745218e-21j, ...,\n",
      "        0.00000000e+00+0.00000000e+00j,  0.00000000e+00+0.00000000e+00j,\n",
      "        0.00000000e+00+0.00000000e+00j]), 'del_a_1_hfp': array([-3.90983931e-25-3.91108733e-25j,  1.38020301e-22+5.06978436e-23j,\n",
      "        1.42836470e-22+2.48809583e-22j, ...,\n",
      "        0.00000000e+00+0.00000000e+00j,  0.00000000e+00+0.00000000e+00j,\n",
      "        0.00000000e+00+0.00000000e+00j]), 'del_a_1_hfc': array([-3.90181884e-25+3.90181884e-25j,  5.06979987e-23-1.38021506e-22j,\n",
      "        2.48808629e-22-1.42837128e-22j, ...,\n",
      "        0.00000000e+00+0.00000000e+00j,  0.00000000e+00+0.00000000e+00j,\n",
      "        0.00000000e+00+0.00000000e+00j]), 'del_tilt_1_hfp': array([ 8.86271172e-25+8.86146370e-25j, -4.07617940e-23-1.38228628e-23j,\n",
      "       -4.27059596e-23-7.22607496e-23j, ...,\n",
      "        0.00000000e+00+0.00000000e+00j,  0.00000000e+00+0.00000000e+00j,\n",
      "        0.00000000e+00+0.00000000e+00j]), 'del_tilt_1_hfc': array([ 8.86441507e-25-8.86441507e-25j, -1.38228545e-23+4.07614756e-23j,\n",
      "       -7.22609846e-23+4.27057530e-23j, ...,\n",
      "        0.00000000e+00+0.00000000e+00j,  0.00000000e+00+0.00000000e+00j,\n",
      "        0.00000000e+00+0.00000000e+00j]), 'del_DL_hfp': array([ 5.97932002e-25+5.97932002e-25j, -2.90370044e-25+7.81005578e-25j,\n",
      "       -7.13129403e-25+4.07300370e-25j, ...,\n",
      "        0.00000000e+00+0.00000000e+00j,  0.00000000e+00+0.00000000e+00j,\n",
      "        0.00000000e+00+0.00000000e+00j]), 'del_DL_hfc': array([5.97948626e-25-5.97948626e-25j, 7.80961445e-25+2.90353823e-25j,\n",
      "       4.07307397e-25+7.13098315e-25j, ...,\n",
      "       0.00000000e+00+0.00000000e+00j, 0.00000000e+00+0.00000000e+00j,\n",
      "       0.00000000e+00+0.00000000e+00j]), 'del_tc_hfp': array([8.82879400e-21-8.82879400e-21j, 1.16763710e-20+4.34115769e-21j,\n",
      "       6.16453764e-21+1.07926412e-20j, ...,\n",
      "       0.00000000e+00+0.00000000e+00j, 0.00000000e+00+0.00000000e+00j,\n",
      "       0.00000000e+00+0.00000000e+00j]), 'del_tc_hfc': array([-8.82879208e-21-8.82879208e-21j,  4.34116042e-21-1.16763708e-20j,\n",
      "        1.07926425e-20-6.16454009e-21j, ...,\n",
      "        0.00000000e+00+0.00000000e+00j,  0.00000000e+00+0.00000000e+00j,\n",
      "        0.00000000e+00+0.00000000e+00j]), 'del_phic_hfp': array([-2.81029241e-22+2.81029241e-22j, -3.67081910e-22-1.36477374e-22j,\n",
      "       -1.91437372e-22-3.35161415e-22j, ...,\n",
      "        0.00000000e+00+0.00000000e+00j,  0.00000000e+00+0.00000000e+00j,\n",
      "        0.00000000e+00+0.00000000e+00j]), 'del_phic_hfc': array([ 2.81029180e-22+2.81029180e-22j, -1.36477460e-22+3.67081904e-22j,\n",
      "       -3.35161445e-22+1.91437468e-22j, ...,\n",
      "        0.00000000e+00+0.00000000e+00j,  0.00000000e+00+0.00000000e+00j,\n",
      "        0.00000000e+00+0.00000000e+00j])}\n",
      "del_Mc_hfp\n",
      "del_Mc_hfc\n",
      "del_eta_hfp\n",
      "del_eta_hfc\n",
      "del_a_1_hfp\n",
      "del_a_1_hfc\n",
      "del_tilt_1_hfp\n",
      "del_tilt_1_hfc\n",
      "del_DL_hfp\n",
      "del_DL_hfc\n",
      "del_tc_hfp\n",
      "del_tc_hfc\n",
      "del_phic_hfp\n",
      "del_phic_hfc\n"
     ]
    }
   ],
   "source": [
    "f1=net.del_hfpc\n",
    "print(len(f1))\n",
    "print(f1)\n",
    "\n",
    "for key in f1.keys():\n",
    "   print(key)"
   ]
  },
  {
   "cell_type": "markdown",
   "metadata": {},
   "source": [
    "#### setup antenna patterns, location phase factors, and PSDs"
   ]
  },
  {
   "cell_type": "code",
   "execution_count": 17,
   "metadata": {},
   "outputs": [
    {
     "name": "stderr",
     "output_type": "stream",
     "text": [
      "2023-11-18 13:30:30,578 - Network - INFO : PSDs loaded.\n",
      "2023-11-18 13:30:30,583 - Network - INFO : Antenna patterns and LPFs loaded.\n"
     ]
    }
   ],
   "source": [
    "net.setup_ant_pat_lpf_psds()"
   ]
  },
  {
   "cell_type": "markdown",
   "metadata": {},
   "source": [
    "#### compute the detector responses"
   ]
  },
  {
   "cell_type": "code",
   "execution_count": 18,
   "metadata": {},
   "outputs": [
    {
     "name": "stderr",
     "output_type": "stream",
     "text": [
      "2023-11-18 13:30:30,706 - Network - INFO : Detector responses calculated.\n"
     ]
    }
   ],
   "source": [
    "net.calc_det_responses()"
   ]
  },
  {
   "cell_type": "markdown",
   "metadata": {},
   "source": [
    "#### \n",
    "compute the detector responses and their derivatives"
   ]
  },
  {
   "cell_type": "code",
   "execution_count": 19,
   "metadata": {},
   "outputs": [
    {
     "name": "stderr",
     "output_type": "stream",
     "text": [
      "2023-11-18 13:30:30,719 - Network - INFO : Calculate numeric derivatives of detector responses.\n",
      "2023-11-18 13:30:30,722 - Network - INFO :    aLIGO_H\n",
      "2023-11-18 13:30:33,433 - Network - INFO :    aLIGO_L\n",
      "2023-11-18 13:30:36,054 - Network - INFO :    aLIGO_V\n",
      "2023-11-18 13:30:38,621 - Network - INFO : Numeric derivatives of detector responses calculated.\n"
     ]
    }
   ],
   "source": [
    "net.calc_det_responses_derivs_num()\n"
   ]
  },
  {
   "cell_type": "code",
   "execution_count": 20,
   "metadata": {},
   "outputs": [
    {
     "name": "stdout",
     "output_type": "stream",
     "text": [
      "{'del_Mc_hf': array([-2.44403812e-24+2.37936402e-24j, -1.57919772e-23-1.20002979e-25j,\n",
      "        1.27355268e-23-2.78097653e-23j, ...,\n",
      "        0.00000000e+00+0.00000000e+00j,  0.00000000e+00+0.00000000e+00j,\n",
      "        0.00000000e+00+0.00000000e+00j]), 'del_eta_hf': array([-3.32281072e-23+3.23581577e-23j,  1.38532749e-22-7.65817909e-23j,\n",
      "       -5.01168656e-23+2.98481731e-22j, ...,\n",
      "        0.00000000e+00+0.00000000e+00j,  0.00000000e+00+0.00000000e+00j,\n",
      "        0.00000000e+00+0.00000000e+00j]), 'del_a_1_hf': array([-5.70079921e-25+5.54509055e-25j,  1.43261198e-23-3.84534282e-24j,\n",
      "       -8.42743606e-24+2.80303884e-23j, ...,\n",
      "        0.00000000e+00+0.00000000e+00j,  0.00000000e+00+0.00000000e+00j,\n",
      "        0.00000000e+00+0.00000000e+00j]), 'del_tilt_1_hf': array([ 5.04355623e-25-4.91185214e-25j, -4.07463912e-24+1.57990490e-24j,\n",
      "        2.00911793e-24-8.30764041e-24j, ...,\n",
      "        0.00000000e+00+0.00000000e+00j,  0.00000000e+00+0.00000000e+00j,\n",
      "        0.00000000e+00+0.00000000e+00j]), 'del_DL_hf': array([ 1.80457553e-25-1.75679580e-25j,  5.17192809e-26+2.44559897e-25j,\n",
      "       -2.35561935e-25-7.79097362e-26j, ...,\n",
      "        0.00000000e+00+0.00000000e+00j,  0.00000000e+00+0.00000000e+00j,\n",
      "        0.00000000e+00+0.00000000e+00j]), 'del_tc_hf': array([-5.18807051e-21-5.32917090e-21j,  7.26754332e-21-1.53693273e-21j,\n",
      "       -2.32969030e-21+7.04387381e-21j, ...,\n",
      "        0.00000000e+00+0.00000000e+00j,  0.00000000e+00+0.00000000e+00j,\n",
      "        0.00000000e+00+0.00000000e+00j]), 'del_phic_hf': array([ 8.25707066e-23+8.48163894e-23j, -1.14948119e-22+2.43091125e-23j,\n",
      "        3.66204061e-23-1.10722704e-22j, ...,\n",
      "        0.00000000e+00+0.00000000e+00j,  0.00000000e+00+0.00000000e+00j,\n",
      "        0.00000000e+00+0.00000000e+00j])}\n"
     ]
    }
   ],
   "source": [
    "\n",
    "h=net.detectors[0].del_hf\n",
    "print(h)"
   ]
  },
  {
   "cell_type": "markdown",
   "metadata": {},
   "source": [
    "#### \n",
    "calculate the network and detector SNRs"
   ]
  },
  {
   "cell_type": "code",
   "execution_count": 21,
   "metadata": {},
   "outputs": [
    {
     "name": "stderr",
     "output_type": "stream",
     "text": [
      "2023-11-18 13:30:38,718 - Network - INFO : SNRs calculated.\n"
     ]
    },
    {
     "name": "stdout",
     "output_type": "stream",
     "text": [
      "61.20084905380184\n",
      "78.13769293605522\n",
      "42.03230839797274\n",
      "107.78570374376085\n"
     ]
    }
   ],
   "source": [
    "net.calc_snrs()\n",
    "print(net.detectors[0].snr)\n",
    "print(net.detectors[1].snr)\n",
    "print(net.detectors[2].snr)\n",
    "net_opt_snr = np.linalg.norm([net.detectors[0].snr, net.detectors[1].snr, net.detectors[2].snr])\n",
    "print(net_opt_snr)"
   ]
  },
  {
   "cell_type": "markdown",
   "metadata": {},
   "source": [
    "#### \n",
    "calculate the network and detector Fisher matrices, condition numbers, covariance matrices, error estimates, and inversion errors"
   ]
  },
  {
   "cell_type": "code",
   "execution_count": 22,
   "metadata": {},
   "outputs": [
    {
     "name": "stderr",
     "output_type": "stream",
     "text": [
      "2023-11-18 13:30:38,763 - Network - INFO : Calculate errors (Fisher & cov matrices).\n",
      "2023-11-18 13:30:38,765 - Network - INFO :    aLIGO_H\n",
      "2023-11-18 13:30:38,934 - Network - INFO :    aLIGO_L\n",
      "2023-11-18 13:30:38,997 - Network - INFO :    aLIGO_V\n",
      "2023-11-18 13:30:39,076 - Network - INFO : Errors calculated.\n"
     ]
    }
   ],
   "source": [
    "net.calc_errors()"
   ]
  },
  {
   "cell_type": "markdown",
   "metadata": {},
   "source": [
    "#### calculate the 90%-credible sky area (in deg)"
   ]
  },
  {
   "cell_type": "code",
   "execution_count": 23,
   "metadata": {},
   "outputs": [
    {
     "name": "stderr",
     "output_type": "stream",
     "text": [
      "2023-11-18 13:30:39,084 - Network - WARNING : calc_sky_area_90: tag = network - Nothing done due to missing of either RA or COS_DEC (DEC) errors.\n"
     ]
    }
   ],
   "source": [
    "net.calc_sky_area_90()"
   ]
  },
  {
   "cell_type": "code",
   "execution_count": 24,
   "metadata": {},
   "outputs": [
    {
     "name": "stdout",
     "output_type": "stream",
     "text": [
      "16224\n",
      "[1.18371202e-22 1.17490438e-22 1.16621487e-22 1.15764118e-22\n",
      " 1.14918105e-22 1.14083232e-22 1.13259285e-22 1.12446061e-22\n",
      " 1.11643358e-22 1.10850981e-22 1.10068739e-22 1.09296444e-22\n",
      " 1.08533912e-22 1.07780965e-22 1.07037424e-22 1.06303119e-22\n",
      " 1.05577880e-22 1.04861544e-22 1.04153952e-22 1.03454947e-22\n",
      " 1.02764380e-22 1.02082102e-22 1.01407971e-22 1.00741846e-22\n",
      " 1.00083591e-22 9.94330727e-23 9.87901589e-23 9.81547214e-23\n",
      " 9.75266342e-23 9.69057736e-23 9.62920183e-23 9.56852495e-23\n",
      " 9.50853508e-23 9.44922084e-23 9.39057111e-23 9.33257502e-23\n",
      " 9.27522196e-23 9.21850157e-23 9.16240375e-23 9.10691862e-23\n",
      " 9.05203652e-23 8.99774802e-23 8.94404386e-23 8.89091501e-23\n",
      " 8.83835258e-23 8.78634786e-23 8.73489230e-23 8.68397751e-23\n",
      " 8.63359524e-23 8.58373739e-23 8.53439601e-23 8.48556330e-23\n",
      " 8.43723160e-23 8.38939340e-23 8.34204135e-23 8.29516822e-23\n",
      " 8.24876697e-23 8.20283066e-23 8.15735252e-23 8.11232593e-23\n",
      " 8.06774437e-23 8.02360149e-23 7.97989105e-23 7.93660694e-23\n",
      " 7.89374315e-23 7.85129380e-23 7.80925311e-23 7.76761541e-23\n",
      " 7.72637512e-23 7.68552675e-23 7.64506493e-23 7.60498435e-23\n",
      " 7.56527979e-23 7.52594614e-23 7.48697835e-23 7.44837147e-23\n",
      " 7.41012063e-23 7.37222103e-23 7.33466797e-23 7.29745683e-23\n",
      " 7.26058306e-23 7.22404220e-23 7.18782987e-23 7.15194176e-23\n",
      " 7.11637365e-23 7.08112138e-23 7.04618090e-23 7.01154818e-23\n",
      " 6.97721931e-23 6.94319043e-23 6.90945773e-23 6.87601750e-23\n",
      " 6.84286606e-23 6.80999982e-23 6.77741522e-23 6.74510880e-23\n",
      " 6.71307710e-23 6.68131676e-23 6.64982445e-23 6.61859690e-23]\n"
     ]
    }
   ],
   "source": [
    "h_ul=net.detectors[0].hf\n",
    "print(len(h_ul))\n",
    "A_ul=np.abs(h_ul)\n",
    "phi_ul= np.angle(h_ul)\n",
    "print(A_ul[:100])"
   ]
  },
  {
   "cell_type": "code",
   "execution_count": 25,
   "metadata": {},
   "outputs": [
    {
     "name": "stdout",
     "output_type": "stream",
     "text": [
      "7\n",
      "['del_Mc_hf', 'del_eta_hf', 'del_a_1_hf', 'del_tilt_1_hf', 'del_DL_hf', 'del_tc_hf', 'del_phic_hf']\n",
      "16224\n",
      "[-3.32281072e-23+3.23581577e-23j  1.38532749e-22-7.65817909e-23j\n",
      " -5.01168656e-23+2.98481731e-22j -3.38384120e-22-2.90174570e-22j\n",
      "  5.44595112e-22-2.16394950e-22j -4.49153237e-23+7.21773552e-22j\n",
      " -7.66236750e-22-3.84273791e-22j  7.30995172e-22-6.64850258e-22j\n",
      "  4.37870274e-22+1.02653370e-21j -1.23473173e-21+1.23987877e-22j]\n"
     ]
    }
   ],
   "source": [
    "f2=net.detectors[0].del_hf\n",
    "print(len(f2))\n",
    "#print(f2)\n",
    "key_list = list(f2.keys()) # returns a list containing the derivatives for each parameter.\n",
    "print(key_list)\n",
    "#for i in range(len(key_list)):\n",
    "#print(f2[key_list[0]])\n",
    "print(len(f2[key_list[4]]))\n",
    "a=f2[key_list[1]]\n",
    "print(a[:10])"
   ]
  },
  {
   "cell_type": "code",
   "execution_count": 26,
   "metadata": {
    "scrolled": true
   },
   "outputs": [
    {
     "name": "stdout",
     "output_type": "stream",
     "text": [
      "[[ 4.92658850e+05 -9.67347670e+06 -8.87604717e+05  2.53929795e+05\n",
      "  -2.25292205e-01 -2.40339956e+07  4.25956142e+04]\n",
      " [-9.67347670e+06  1.92458018e+08  1.76394162e+07 -5.04068472e+06\n",
      "  -1.68010155e+01  5.03030164e+08 -8.27627422e+05]\n",
      " [-8.87604717e+05  1.76394162e+07  1.61726430e+06 -4.62194945e+05\n",
      "  -6.45852250e-01  4.59343002e+07 -7.59961662e+04]\n",
      " [ 2.53929795e+05 -5.04068472e+06 -4.62194945e+05  1.32110103e+05\n",
      "   2.46468237e-01 -1.30341322e+07  2.17553997e+04]\n",
      " [-2.25292205e-01 -1.68010155e+01 -6.45852250e-01  2.46468237e-01\n",
      "   1.69551087e-02 -1.90823956e-02 -8.17157184e-07]\n",
      " [-2.40339956e+07  5.03030164e+08  4.59343002e+07 -1.30341322e+07\n",
      "  -1.90823956e-02  1.74330590e+09 -2.00030290e+06]\n",
      " [ 4.25956142e+04 -8.27627422e+05 -7.59961662e+04  2.17553997e+04\n",
      "  -8.17157184e-07 -2.00030290e+06  3.74554492e+03]]\n"
     ]
    }
   ],
   "source": [
    "f3=net.detectors[0].fisher\n",
    "print(f3)"
   ]
  },
  {
   "cell_type": "code",
   "execution_count": 27,
   "metadata": {},
   "outputs": [
    {
     "name": "stdout",
     "output_type": "stream",
     "text": [
      "[1.89390575e+09 4.41005086e+07 2.99363463e+03 4.11764461e+02\n",
      " 2.55766045e+01 3.17745196e-01 3.48236856e-03]\n"
     ]
    }
   ],
   "source": [
    "u,v = np.linalg.eig(f3)\n",
    "print(u)\n"
   ]
  },
  {
   "cell_type": "code",
   "execution_count": 28,
   "metadata": {},
   "outputs": [
    {
     "name": "stdout",
     "output_type": "stream",
     "text": [
      "[[ 2.28481786e-03  6.61555314e-05 -1.95925217e-02 -6.81205094e-02\n",
      "   3.39844406e-01  1.07489523e-05 -7.48556154e-03]\n",
      " [ 6.61555314e-05  2.95387745e-05 -3.34274326e-03 -1.04833255e-02\n",
      "   5.52111752e-02  1.95562097e-06 -1.13663766e-04]\n",
      " [-1.95925217e-02 -3.34274326e-03  1.09372854e+00  3.66716361e+00\n",
      "  -1.52190943e+01 -7.10419379e-04 -3.86571814e-03]\n",
      " [-6.81205094e-02 -1.04833255e-02  3.66716361e+00  1.23268414e+01\n",
      "  -5.07960205e+01 -2.38666544e-03 -8.99407919e-03]\n",
      " [ 3.39844406e-01  5.52111752e-02 -1.52190943e+01 -5.07960205e+01\n",
      "   2.76888367e+02  9.71378759e-03 -2.28594109e-01]\n",
      " [ 1.07489523e-05  1.95562097e-06 -7.10419379e-04 -2.38666544e-03\n",
      "   9.71378759e-03  4.68800408e-07  8.57693158e-06]\n",
      " [-7.48556154e-03 -1.13663766e-04 -3.86571814e-03 -8.99407919e-03\n",
      "  -2.28594109e-01  8.57693158e-06  3.86665575e-02]]\n"
     ]
    }
   ],
   "source": [
    "cov_matrix =net.detectors[0].cov\n",
    "print(cov_matrix)"
   ]
  },
  {
   "cell_type": "code",
   "execution_count": 29,
   "metadata": {},
   "outputs": [
    {
     "name": "stdout",
     "output_type": "stream",
     "text": [
      "0.04779977\n",
      "0.0054349587\n",
      "1.0458148\n",
      "3.51096\n",
      "16.639963\n",
      "0.00068469\n",
      "0.19663814\n"
     ]
    }
   ],
   "source": [
    "for i in np.arange(0,7):\n",
    "   err= np.sqrt(cov_matrix[i,i])\n",
    "   print(err)\n",
    "                \n"
   ]
  },
  {
   "cell_type": "code",
   "execution_count": 30,
   "metadata": {},
   "outputs": [
    {
     "name": "stdout",
     "output_type": "stream",
     "text": [
      "543855632364.38666\n"
     ]
    }
   ],
   "source": [
    "from gwbench import fisher_analysis_tools\n",
    "n=fisher_analysis_tools.calc_cond_number(f3)\n",
    "print(n)"
   ]
  },
  {
   "cell_type": "code",
   "execution_count": 31,
   "metadata": {},
   "outputs": [
    {
     "name": "stdout",
     "output_type": "stream",
     "text": [
      "[[ 4.92658850e+05 -9.67347670e+06 -8.87604717e+05  2.53929795e+05\n",
      "  -2.25292205e-01 -2.40339956e+07  4.25956142e+04]\n",
      " [-9.67347670e+06  1.92458018e+08  1.76394162e+07 -5.04068472e+06\n",
      "  -1.68010155e+01  5.03030164e+08 -8.27627422e+05]\n",
      " [-8.87604717e+05  1.76394162e+07  1.61726430e+06 -4.62194945e+05\n",
      "  -6.45852250e-01  4.59343002e+07 -7.59961662e+04]\n",
      " [ 2.53929795e+05 -5.04068472e+06 -4.62194945e+05  1.32110103e+05\n",
      "   2.46468237e-01 -1.30341322e+07  2.17553997e+04]\n",
      " [-2.25292205e-01 -1.68010155e+01 -6.45852250e-01  2.46468237e-01\n",
      "   1.69551087e-02 -1.90823956e-02 -8.17157184e-07]\n",
      " [-2.40339956e+07  5.03030164e+08  4.59343002e+07 -1.30341322e+07\n",
      "  -1.90823956e-02  1.74330590e+09 -2.00030290e+06]\n",
      " [ 4.25956142e+04 -8.27627422e+05 -7.59961662e+04  2.17553997e+04\n",
      "  -8.17157184e-07 -2.00030290e+06  3.74564624e+03]]\n"
     ]
    }
   ],
   "source": [
    "n = 7\n",
    "prior_matrix = np.zeros((n, n), dtype=float)\n",
    "#prior_matrix[2,2] = 8.650\n",
    "#prior_matrix[3,3] = 1/(np.pi/4)**2\n",
    "prior_matrix[6,6] = 1/(np.pi**2)\n",
    "#print(prior_matrix)\n",
    "prior_fisher = f3 + prior_matrix\n",
    "print(prior_fisher)"
   ]
  },
  {
   "cell_type": "code",
   "execution_count": 32,
   "metadata": {},
   "outputs": [],
   "source": [
    "def invertSVD(matrix):\n",
    "    '''\n",
    "    Adapted from GWFish\n",
    "    '''\n",
    "    thresh = 1e-10\n",
    "\n",
    "    dm = np.sqrt(np.diag(matrix))\n",
    "    normalizer = np.outer(dm, dm)\n",
    "    matrix_norm = matrix / normalizer\n",
    "\n",
    "    [U, S, Vh] = np.linalg.svd(matrix_norm)\n",
    "\n",
    "    kVal = sum(S > thresh)\n",
    "    matrix_inverse_norm = U[:, 0:kVal] @ np.diag(1. / S[0:kVal]) @ Vh[0:kVal, :]\n",
    "\n",
    "    # print(matrix @ (matrix_inverse_norm / normalizer))\n",
    "\n",
    "    return matrix_inverse_norm / normalizer, S"
   ]
  },
  {
   "cell_type": "code",
   "execution_count": 33,
   "metadata": {},
   "outputs": [
    {
     "name": "stdout",
     "output_type": "stream",
     "text": [
      "[[ 2.27916271e-03  6.60696610e-05 -1.95954426e-02 -6.81273078e-02\n",
      "   3.39671719e-01  1.07554322e-05 -7.45634939e-03]\n",
      " [ 6.60696610e-05  2.95374707e-05 -3.34278754e-03 -1.04834286e-02\n",
      "   5.52085539e-02  1.95571930e-06 -1.13220195e-04]\n",
      " [-1.95954426e-02 -3.34278754e-03  1.09372704e+00  3.66716017e+00\n",
      "  -1.52191838e+01 -7.10416006e-04 -3.85063247e-03]\n",
      " [-6.81273078e-02 -1.04834286e-02  3.66716017e+00  1.23268332e+01\n",
      "  -5.07962273e+01 -2.38665774e-03 -8.95898032e-03]\n",
      " [ 3.39671719e-01  5.52085539e-02 -1.52191838e+01 -5.07962273e+01\n",
      "   2.76883086e+02  9.71398588e-03 -2.27702032e-01]\n",
      " [ 1.07554322e-05  1.95571930e-06 -7.10416006e-04 -2.38665774e-03\n",
      "   9.71398588e-03  4.68792970e-07  8.54346031e-06]\n",
      " [-7.45634939e-03 -1.13220195e-04 -3.85063247e-03 -8.95898032e-03\n",
      "  -2.27702032e-01  8.54346031e-06  3.85156620e-02]]\n"
     ]
    }
   ],
   "source": [
    "new_cov = invertSVD(prior_fisher)\n",
    "print(new_cov[0])"
   ]
  },
  {
   "cell_type": "code",
   "execution_count": 34,
   "metadata": {},
   "outputs": [
    {
     "name": "stdout",
     "output_type": "stream",
     "text": [
      "0.047740577153940464\n",
      "0.0054348386047538225\n",
      "1.0458140579123543\n",
      "3.510959016561785\n",
      "16.639804272758344\n",
      "0.0006846845770179025\n",
      "0.19625407507400913\n"
     ]
    }
   ],
   "source": [
    "for i in np.arange(0,7):\n",
    "   err= np.sqrt(new_cov[0][i,i])\n",
    "   print(err)"
   ]
  },
  {
   "cell_type": "markdown",
   "metadata": {},
   "source": [
    "#### calculation of systematic errors"
   ]
  },
  {
   "cell_type": "code",
   "execution_count": 35,
   "metadata": {},
   "outputs": [
    {
     "name": "stdout",
     "output_type": "stream",
     "text": [
      "59\n"
     ]
    }
   ],
   "source": [
    "from gwbench.wf_models import py_lgw\n",
    "lgw = py_lgw.lensed_wf_gen()\n",
    "x = (1e1, 5e1, 1e2, 5e2, 1e3, 5e3, 1e4, 5e4, 1e5)\n",
    "y = (0.01, 0.05, 0.1, 0.5, 1.0, 3.0, 5.0)\n",
    "chirp_time = lgw.tchirp_2PN(64.25, 0.249, f_low=10) # returns the chirptime given the total mass,eta and low frequency cut off.\n",
    "#print(chirp_time)\n",
    "ml_y_pairs = []\n",
    "for i in x:\n",
    "    for j in y:\n",
    "        time_delay= lgw.td_point_sec(i, j, zl=0)\n",
    "        if time_delay < chirp_time:\n",
    "            pairs = (i,j)\n",
    "            ml_y_pairs.append(pairs)\n",
    "\n",
    "print(len(ml_y_pairs))  "
   ]
  },
  {
   "cell_type": "code",
   "execution_count": 36,
   "metadata": {},
   "outputs": [
    {
     "name": "stdout",
     "output_type": "stream",
     "text": [
      "59\n"
     ]
    }
   ],
   "source": [
    "delta_h_list=[]\n",
    "for i,j in  ml_y_pairs:\n",
    "        fs = net.detectors[0].f # returns the truncated frequency array tto the range dictated by the given detector’s PSD\n",
    "        ws = lgw.w_of_f(fs, ml=i) #Converts a dimensionful frequency (f) to the dimensionless frequency (w)\n",
    "        Fws = lgw.point_Fw_eff_map(ws,j) # returns an array containing amplification factors\n",
    "    \n",
    "        #calculation of  amplitude differences and (A_l-A_ul) and Phase differences using the analytical formula.\n",
    "        R = np.abs(Fws)\n",
    "        phi = np.angle(Fws)\n",
    "        delta_A = A_ul*(R-1)\n",
    "        delta_phi = phi\n",
    "\n",
    "        # calculation of deta_h (h_l-h_ul) (reference - Eq.30 arXiv:0707.2982)\n",
    "        delta_h = (delta_A + 1j*A_ul*delta_phi)*np.exp(1j*phi_ul)\n",
    "        delta_h_list.append(delta_h)\n",
    "\n",
    "print(len(delta_h_list))"
   ]
  },
  {
   "cell_type": "code",
   "execution_count": 37,
   "metadata": {},
   "outputs": [
    {
     "name": "stdout",
     "output_type": "stream",
     "text": [
      "413\n"
     ]
    }
   ],
   "source": [
    "import gwbench.snr as snr_mod\n",
    "inner_product_list=[]\n",
    "for j in range(len(delta_h_list)):\n",
    "    for i in range(len(key_list)):\n",
    "         inner_product = snr_mod.scalar_product_freq_array(delta_h_list[j], f2[key_list[i]], net.detectors[0].psd, fs)\n",
    "         inner_product_list.append(inner_product)\n",
    "print(len(inner_product_list))"
   ]
  },
  {
   "cell_type": "code",
   "execution_count": 38,
   "metadata": {},
   "outputs": [
    {
     "name": "stdout",
     "output_type": "stream",
     "text": [
      "59\n",
      "[12.905302729505847, 962.4088200748167, 36.98991240549073, -14.117574835305163, -0.9716082077696225, -0.675586331965182, 0.011417835766350894]\n"
     ]
    }
   ],
   "source": [
    "inner_list_length = 7\n",
    "sep_inner_product = [inner_product_list[i:i + inner_list_length] for i in range(0, len(inner_product_list), inner_list_length)]\n",
    "print(len(sep_inner_product))\n",
    "print(sep_inner_product[58])\n",
    "#print(sep_inner_product[1])\n"
   ]
  },
  {
   "cell_type": "code",
   "execution_count": 39,
   "metadata": {},
   "outputs": [
    {
     "name": "stdout",
     "output_type": "stream",
     "text": [
      "59\n",
      "[2.66708078e-02 2.66630756e-02 2.66389072e-02 2.58612671e-02\n",
      " 2.33803590e-02 4.41679995e-03 3.39656576e-03 1.15346597e-01\n",
      " 1.14986851e-01 1.13864176e-01 7.90534506e-02 2.50820910e-02\n",
      " 5.16376164e-03 3.04130812e-03 1.81217956e-01 1.79191560e-01\n",
      " 1.72907068e-01 1.80299363e-03 1.39207326e-02 1.30474543e-02\n",
      " 3.09190715e-03 4.47244968e-01 3.40051649e-01 7.10633898e-02\n",
      " 9.18574096e-03 3.22798547e-02 2.29744119e-03 3.15235658e-04\n",
      " 6.15038069e-01 1.06040394e-01 1.12305968e-01 5.75115550e-02\n",
      " 2.35359962e-02 1.50938390e-04 1.84527575e-04 2.39193365e-01\n",
      " 1.33886775e-01 8.39850513e-02 6.49593080e-03 2.04388523e-04\n",
      " 1.51413616e-04 6.72054424e-06 7.31992910e-01 8.38859505e-02\n",
      " 6.55824685e-02 2.17006127e-03 3.97635990e-04 8.06180597e-05\n",
      " 2.10850555e-06 6.66648603e-02 1.64828023e-02 5.28236959e-03\n",
      " 4.44546270e-04 1.13448190e-04 1.30630058e-01 7.00146356e-03\n",
      " 2.80225708e-03 3.89861394e-04 5.12319012e-05]\n"
     ]
    }
   ],
   "source": [
    "delta_p_list=[]\n",
    "\n",
    "for i in range (len(sep_inner_product)):\n",
    "    error =0\n",
    "    for j in range (0,7):\n",
    "      \n",
    "           error += new_cov[0][1,j]* sep_inner_product[i][j]\n",
    "    delta_p_list.append(error)\n",
    "\n",
    "print(len(delta_p_list))\n",
    "abs_err= np.abs(delta_p_list)/0.249\n",
    "print(abs_err)"
   ]
  },
  {
   "cell_type": "code",
   "execution_count": 40,
   "metadata": {},
   "outputs": [
    {
     "name": "stdout",
     "output_type": "stream",
     "text": [
      "3\n",
      "[  500.  1000. 10000.]\n",
      "[0.01 0.01 0.01]\n",
      "[0.44724497 0.61503807 0.73199291]\n"
     ]
    }
   ],
   "source": [
    "samples= np.column_stack(ml_y_pairs).T\n",
    "masses =np.array(samples[:,0])\n",
    "y= np.array(samples[:, 1])\n",
    "err=np.array(abs_err)\n",
    "indices = np.where(abs_err>0.4)\n",
    "ml_check = masses[indices]\n",
    "y_check = y[indices]\n",
    "err_check = err[indices]\n",
    "print(len(ml_check))\n",
    "print(ml_check)\n",
    "print(y_check)\n",
    "print(err_check)"
   ]
  },
  {
   "cell_type": "code",
   "execution_count": 41,
   "metadata": {},
   "outputs": [
    {
     "data": {
      "image/png": "[encoded data removed]",
      "text/plain": [
       "<Figure size 640x480 with 2 Axes>"
      ]
     },
     "metadata": {},
     "output_type": "display_data"
    }
   ],
   "source": [
    "import matplotlib.pyplot as plt\n",
    "\n",
    "map = plt.cm.get_cmap('viridis')\n",
    "reversed_map= map.reversed(map) \n",
    "plot = plt.scatter(samples[:, 0], samples[:, 1], c=abs_err, cmap=reversed_map,  s=10)\n",
    "plt.xlabel(r'$\\log \\mathcal{M}_{lz}$')\n",
    "plt.ylabel(r'$y$')\n",
    "plt.xscale('log')\n",
    "plt.yscale('log')\n",
    "# ticks_list = []\n",
    "cbar = plt.colorbar(plot)\n",
    "# cbar.set_ticklabels(list(map(str, ticks_list)))\n",
    "plt.title('Relative Errors')\n",
    "plt.savefig('Abs_Errors in eta.png',dpi=300, bbox_inches='tight')\n",
    "plt.show()"
   ]
  },
  {
   "cell_type": "code",
   "execution_count": 42,
   "metadata": {},
   "outputs": [
    {
     "name": "stdout",
     "output_type": "stream",
     "text": [
      "11.188506314497964\n"
     ]
    }
   ],
   "source": [
    "fs = net.detectors[2].f # returns the truncated frequency array tto the range dictated by the given detector’s PSD\n",
    "ws = lgw.w_of_f(fs, ml=10000) #Converts a dimensionful frequency (f) to the dimensionless frequency (w)\n",
    "Fws = lgw.point_Fw_eff_map(ws,0.01)\n",
    "h_l = h_ul*Fws\n",
    "#print(len(h_l))\n",
    "snr_ul=snr_mod.snr_freq_array(h_ul,net.detectors[2].psd,fs)\n",
    "snr_l =snr_mod.snr_freq_array(h_l,net.detectors[2].psd,fs)\n",
    "print(snr_l/snr_ul)"
   ]
  },
  {
   "cell_type": "markdown",
   "metadata": {},
   "source": [
    "### Systematic error propogation for spin parameters"
   ]
  },
  {
   "cell_type": "code",
   "execution_count": 43,
   "metadata": {},
   "outputs": [
    {
     "name": "stdout",
     "output_type": "stream",
     "text": [
      "59\n",
      "0.18226623448546128\n"
     ]
    }
   ],
   "source": [
    "delta_eta_list=[]\n",
    "\n",
    "for i in range (len(sep_inner_product)):\n",
    "    error =0\n",
    "    for j in range (0,7):\n",
    "      \n",
    "           error += new_cov[0][1,j]* sep_inner_product[i][j]\n",
    "    delta_eta_list.append(error)\n",
    "\n",
    "print(len(delta_eta_list))\n",
    "eta_err=np.abs(delta_eta_list)\n",
    "#print(eta_err)\n",
    "print(max(eta_err))"
   ]
  },
  {
   "cell_type": "code",
   "execution_count": 44,
   "metadata": {},
   "outputs": [
    {
     "name": "stdout",
     "output_type": "stream",
     "text": [
      "59\n",
      "38.67554526363741\n"
     ]
    }
   ],
   "source": [
    "delta_chi1_list=[]\n",
    "\n",
    "for i in range (len(sep_inner_product)):\n",
    "    error =0\n",
    "    for j in range (0,7):\n",
    "      \n",
    "           error += new_cov[0][2,j]* sep_inner_product[i][j]\n",
    "    delta_chi1_list.append(error)\n",
    "\n",
    "print(len(delta_chi1_list))\n",
    "chi1_err=np.abs(delta_chi1_list)\n",
    "print(max(chi1_err))\n"
   ]
  },
  {
   "cell_type": "code",
   "execution_count": 45,
   "metadata": {},
   "outputs": [
    {
     "name": "stdout",
     "output_type": "stream",
     "text": [
      "59\n",
      "132.1664822115678\n"
     ]
    }
   ],
   "source": [
    "delta_tilt1_list=[]\n",
    "\n",
    "for i in range (len(sep_inner_product)):\n",
    "    error =0\n",
    "    for j in range (0,7):\n",
    "      \n",
    "           error += new_cov[0][3,j]* sep_inner_product[i][j]\n",
    "    delta_tilt1_list.append(error)\n",
    "\n",
    "print(len(delta_tilt1_list))\n",
    "tilt1_err=np.abs(delta_tilt1_list)\n",
    "print(max(tilt1_err))"
   ]
  },
  {
   "cell_type": "code",
   "execution_count": 46,
   "metadata": {},
   "outputs": [],
   "source": [
    "# delta_chi2_list=[]\n",
    "\n",
    "# for i in range (len(sep_inner_product)):\n",
    "#     error =0\n",
    "#     for j in range (0,9):\n",
    "      \n",
    "#            error += cov_matrix[4,j]* sep_inner_product[i][j]\n",
    "#     delta_chi2_list.append(error)\n",
    "\n",
    "# print(len(delta_chi2_list))\n",
    "# chi2_err=np.abs(delta_chi2_list)\n",
    "# print(chi2_err)\n"
   ]
  },
  {
   "cell_type": "code",
   "execution_count": 47,
   "metadata": {},
   "outputs": [],
   "source": [
    "# delta_tilt2_list=[]\n",
    "\n",
    "# for i in range (len(sep_inner_product)):\n",
    "#     error =0\n",
    "#     for j in range (0,9):\n",
    "      \n",
    "#            error += cov_matrix[5,j]* sep_inner_product[i][j]\n",
    "#     delta_tilt2_list.append(error)\n",
    "\n",
    "# print(len(delta_tilt2_list))\n",
    "# tilt2_err=np.abs(delta_tilt2_list)\n",
    "# print(max(tilt2_err))"
   ]
  },
  {
   "cell_type": "code",
   "execution_count": 48,
   "metadata": {},
   "outputs": [],
   "source": [
    "eta = 0.249\n",
    "chi_1 = 0.3\n",
    "chi_2 = 0.3\n",
    "tilt_1 = np.pi/4\n",
    "tilt_2 = 0\n"
   ]
  },
  {
   "cell_type": "code",
   "execution_count": 49,
   "metadata": {},
   "outputs": [
    {
     "data": {
      "image/png": "[encoded data removed]",
      "text/plain": [
       "<Figure size 640x480 with 2 Axes>"
      ]
     },
     "metadata": {},
     "output_type": "display_data"
    }
   ],
   "source": [
    "chip_err =chi1_err* np.sin(tilt_1)+ chi_1*np.cos(tilt_1)*tilt1_err\n",
    "#print(chip_err)\n",
    "import matplotlib.pyplot as plt\n",
    "\n",
    "map = plt.cm.get_cmap('viridis')\n",
    "reversed_map= map.reversed(map) \n",
    "plot = plt.scatter(samples[:, 0], samples[:, 1], c=chip_err, cmap=reversed_map,  s=10)\n",
    "plt.xlabel(r'$\\log \\mathcal{M}_{lz}$')\n",
    "plt.ylabel(r'$y$')\n",
    "plt.xscale('log')\n",
    "plt.yscale('log')\n",
    "# ticks_list = []\n",
    "cbar = plt.colorbar(plot)\n",
    "# cbar.set_ticklabels(list(map(str, ticks_list)))\n",
    "plt.title('Absolute Errors')\n",
    "plt.savefig('Abs_Errors in chip.png',dpi=300, bbox_inches='tight')\n",
    "plt.show()"
   ]
  },
  {
   "cell_type": "code",
   "execution_count": 50,
   "metadata": {},
   "outputs": [
    {
     "name": "stdout",
     "output_type": "stream",
     "text": [
      "59\n"
     ]
    }
   ],
   "source": [
    "chi_eff_err =np.abs(1/2 * (1+np.sqrt(1-4*eta))*np.cos(tilt_1)*chi1_err+1/(np.sqrt(1-4*eta))*(chi_2*np.cos(tilt_2)-chi_1*np.cos(tilt_1))*eta_err- 1/2 * (1+np.sqrt(1-4*eta))*np.sin(tilt_1)*chi_1*tilt1_err)#+1/2*(1-np.sqrt(1-4*eta))*np.cos(tilt_2)*chi2_err- 1/2 * (1-np.sqrt(1-4*eta))*np.sin(tilt_2)*chi_2*tilt2_err\n",
    "print(len(chi_eff_err))"
   ]
  },
  {
   "cell_type": "code",
   "execution_count": 51,
   "metadata": {},
   "outputs": [
    {
     "data": {
      "image/png": "[encoded data removed]",
      "text/plain": [
       "<Figure size 640x480 with 2 Axes>"
      ]
     },
     "metadata": {},
     "output_type": "display_data"
    }
   ],
   "source": [
    "import matplotlib.pyplot as plt\n",
    "\n",
    "map = plt.cm.get_cmap('viridis')\n",
    "reversed_map= map.reversed(map) \n",
    "plot = plt.scatter(samples[:, 0], samples[:, 1], c=chi_eff_err, cmap=reversed_map,  s=10)\n",
    "plt.xlabel(r'$\\log \\mathcal{M}_{lz}$')\n",
    "plt.ylabel(r'$y$')\n",
    "plt.xscale('log')\n",
    "plt.yscale('log')\n",
    "# ticks_list = []\n",
    "cbar = plt.colorbar(plot)\n",
    "# cbar.set_ticklabels(list(map(str, ticks_list)))\n",
    "plt.title('Absolute Errors')\n",
    "plt.savefig('Abs_Errors in chieff.png',dpi=300, bbox_inches='tight')\n",
    "plt.show()"
   ]
  },
  {
   "cell_type": "code",
   "execution_count": 52,
   "metadata": {},
   "outputs": [],
   "source": [
    "# eta = 0.249\n",
    "# val = (np.sqrt(1-4*eta) *(1+np.sqrt(1-4*eta))**2)\n",
    "# print(val)\n",
    "# c=0.18229662550395137*4\n",
    "# print(c)"
   ]
  },
  {
   "cell_type": "code",
   "execution_count": 53,
   "metadata": {},
   "outputs": [],
   "source": [
    "# import numpy as np\n",
    "# eta = 0.249\n",
    "# q_err =np.abs((4 * eta_err)/(np.sqrt(1-4*eta) *(1+np.sqrt(1-4*eta))**2))\n",
    "# map = plt.cm.get_cmap('viridis')\n",
    "# reversed_map= map.reversed(map) \n",
    "# plot = plt.scatter(samples[:, 0], samples[:, 1], c=q_err, cmap=reversed_map,  s=10)\n",
    "# plt.xlabel(r'$\\log \\mathcal{M}_{lz}$')\n",
    "# plt.ylabel(r'$y$')\n",
    "# plt.xscale('log')\n",
    "# plt.yscale('log')\n",
    "# # ticks_list = []\n",
    "# cbar = plt.colorbar(plot)\n",
    "# # cbar.set_ticklabels(list(map(str, ticks_list)))\n",
    "# plt.title('Absolute Errors')\n",
    "# plt.savefig('Abs_Errors in chieff.png',dpi=300, bbox_inches='tight')\n",
    "# plt.show() "
   ]
  },
  {
   "cell_type": "code",
   "execution_count": 54,
   "metadata": {},
   "outputs": [],
   "source": [
    "# import numpy as np\n",
    "# def my_function(x):\n",
    "#     return (4* (1+np.sqrt(1-4*x)/1-np.sqrt(1-4*x))**2 + 3*(1+np.sqrt(1-4*x)/1-np.sqrt(1-4*x)))/(4+3*(1+np.sqrt(1-4*x)/1-np.sqrt(1-4*x))) \n",
    "# x_val = 0.249\n",
    "# dx = 1e-6\n",
    "# derivative = (my_function(x_val + 1e-6) - my_function(x_val))/dx\n",
    "# print(derivative)"
   ]
  },
  {
   "cell_type": "code",
   "execution_count": 55,
   "metadata": {},
   "outputs": [],
   "source": [
    "# q = m2/m1\n",
    "# print(q)\n",
    "# k= (4*q**2+3*q)/(4+3*q)\n",
    "# print(k)\n",
    "# val= (12*q**2 + 32*q+12)/(4+3*q)**2\n",
    "# print(val)"
   ]
  },
  {
   "cell_type": "code",
   "execution_count": 56,
   "metadata": {},
   "outputs": [],
   "source": [
    "# q = m2/m1\n",
    "# chip_err1 =chi1_err* np.sin(tilt_2)+ chi_2*np.cos(tilt_2)*tilt1_err+(12*q**2 + 32*q+12)/((4+3*q)**2)*chi_2*np.sin(tilt_2)*q_err\n",
    "# #print(chip_err)\n",
    "# import matplotlib.pyplot as plt\n",
    "\n",
    "# map = plt.cm.get_cmap('viridis')\n",
    "# reversed_map= map.reversed(map) \n",
    "# plot = plt.scatter(samples[:, 0], samples[:, 1], c=chip_err1, cmap=reversed_map,  s=10)\n",
    "# plt.xlabel(r'$\\log \\mathcal{M}_{lz}$')\n",
    "# plt.ylabel(r'$y$')\n",
    "# plt.xscale('log')\n",
    "# plt.yscale('log')\n",
    "# # ticks_list = []\n",
    "# cbar = plt.colorbar(plot)\n",
    "# # cbar.set_ticklabels(list(map(str, ticks_list)))\n",
    "# plt.title('Absolute Errors')\n",
    "# plt.savefig('Abs_Errors in chip.png',dpi=300, bbox_inches='tight')\n",
    "# plt.show()"
   ]
  },
  {
   "cell_type": "code",
   "execution_count": 57,
   "metadata": {},
   "outputs": [],
   "source": [
    "# chi_eff_err1 = np.abs(1/(np.sqrt(1-4*eta))*(chi_2*np.cos(tilt_2)-chi_1*np.cos(tilt_1))*eta_err +1/2 * (1+np.sqrt(1-4*eta))*np.cos(tilt_2)*chi1_err-1/2 * (1+np.sqrt(1-4*eta))*np.sin(tilt_2)*chi_2*tilt1_err)"
   ]
  },
  {
   "cell_type": "code",
   "execution_count": 58,
   "metadata": {},
   "outputs": [],
   "source": [
    "# import matplotlib.pyplot as plt\n",
    "\n",
    "# map = plt.cm.get_cmap('viridis')\n",
    "# reversed_map= map.reversed(map) \n",
    "# plot = plt.scatter(samples[:, 0], samples[:, 1], c=chi_eff_err1, cmap=reversed_map,  s=10)\n",
    "# plt.xlabel(r'$\\log \\mathcal{M}_{lz}$')\n",
    "# plt.ylabel(r'$y$')\n",
    "# plt.xscale('log')\n",
    "# plt.yscale('log')\n",
    "# # ticks_list = []\n",
    "# cbar = plt.colorbar(plot)\n",
    "# # cbar.set_ticklabels(list(map(str, ticks_list)))\n",
    "# plt.title('Absolute Errors')\n",
    "# plt.savefig('Abs_Errors in chieff.png',dpi=300, bbox_inches='tight')\n",
    "# plt.show()"
   ]
  },
  {
   "cell_type": "code",
   "execution_count": null,
   "metadata": {},
   "outputs": [],
   "source": []
  }
 ],
 "metadata": {
  "kernelspec": {
   "display_name": "Python 3 (ipykernel)",
   "language": "python",
   "name": "python3"
  },
  "language_info": {
   "codemirror_mode": {
    "name": "ipython",
    "version": 3
   },
   "file_extension": ".py",
   "mimetype": "text/x-python",
   "name": "python",
   "nbconvert_exporter": "python",
   "pygments_lexer": "ipython3",
   "version": "3.10.12"
  }
 },
 "nbformat": 4,
 "nbformat_minor": 4
}
