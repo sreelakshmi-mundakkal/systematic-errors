{
 "cells": [
  {
   "cell_type": "code",
   "execution_count": 1,
   "metadata": {},
   "outputs": [
    {
     "name": "stderr",
     "output_type": "stream",
     "text": [
      "/home/sreelakshmi/anaconda3/envs/igwn-py310/lib/python3.10/site-packages/pandas/core/computation/expressions.py:21: UserWarning: Pandas requires version '2.8.0' or newer of 'numexpr' (version '2.7.3' currently installed).\n",
      "  from pandas.core.computation.check import NUMEXPR_INSTALLED\n"
     ]
    }
   ],
   "source": [
    "import numpy as np\n",
    "from gwbench import network"
   ]
  },
  {
   "cell_type": "markdown",
   "metadata": {},
   "source": [
    "## User Choices"
   ]
  },
  {
   "cell_type": "markdown",
   "metadata": {},
   "source": [
    "#### choose the desired detectors"
   ]
  },
  {
   "cell_type": "code",
   "execution_count": 2,
   "metadata": {},
   "outputs": [],
   "source": [
    "network_spec = ['aLIGO_H','aLIGO_L','aLIGO_V']"
   ]
  },
  {
   "cell_type": "markdown",
   "metadata": {},
   "source": [
    "#### initialize the network with the desired detectors"
   ]
  },
  {
   "cell_type": "code",
   "execution_count": 3,
   "metadata": {},
   "outputs": [],
   "source": [
    "net = network.Network(network_spec)"
   ]
  },
  {
   "cell_type": "markdown",
   "metadata": {},
   "source": [
    "#### choose the desired waveform "
   ]
  },
  {
   "cell_type": "code",
   "execution_count": 4,
   "metadata": {},
   "outputs": [],
   "source": [
    "wf_model_name = 'lal_bbh_jframe'"
   ]
  },
  {
   "cell_type": "markdown",
   "metadata": {},
   "source": [
    "#### pass the chosen waveform to the network for initialization"
   ]
  },
  {
   "cell_type": "code",
   "execution_count": 5,
   "metadata": {},
   "outputs": [],
   "source": [
    "net.set_wf_vars(wf_model_name=wf_model_name)"
   ]
  },
  {
   "cell_type": "markdown",
   "metadata": {},
   "source": [
    "#### pick the desired frequency range"
   ]
  },
  {
   "cell_type": "code",
   "execution_count": 6,
   "metadata": {},
   "outputs": [
    {
     "name": "stdout",
     "output_type": "stream",
     "text": [
      "16304\n"
     ]
    }
   ],
   "source": [
    "f = np.arange(5.,1024,2**-4)\n",
    "print(len(f))"
   ]
  },
  {
   "cell_type": "markdown",
   "metadata": {},
   "source": [
    "#### set the injection parameters"
   ]
  },
  {
   "cell_type": "code",
   "execution_count": 7,
   "metadata": {},
   "outputs": [],
   "source": [
    "inj_params = {\n",
    "    'Mc':          27.9,\n",
    "    'eta':         0.249,\n",
    "    'a_1':         0.3,\n",
    "    'a_2':         0.3,\n",
    "    'tilt_1':      0,\n",
    "    'tilt_2':      0,\n",
    "    'phi_12':      0,\n",
    "    'phi_jl':      0,\n",
    "    'theta_jn':    0,\n",
    "    'DL':          470,\n",
    "    'tc':          0,\n",
    "    'phic':        0,\n",
    "    'approximant': 'IMRPhenomXP',\n",
    "    'ra':          np.pi/4,\n",
    "    'dec':         np.pi/4,\n",
    "    'psi':         np.pi/4,\n",
    "    'gmst0':       0\n",
    "    }"
   ]
  },
  {
   "cell_type": "code",
   "execution_count": 8,
   "metadata": {},
   "outputs": [
    {
     "name": "stdout",
     "output_type": "stream",
     "text": [
      "64.25169587301812\n",
      "34.15766496138084 30.09403091163728\n",
      "0.5316227766016838\n"
     ]
    }
   ],
   "source": [
    "\n",
    "from gwbench import basic_relations\n",
    "tot_mass = basic_relations.M_of_Mc_eta(27.9, 0.249)\n",
    "print(tot_mass)\n",
    "m1,m2 = basic_relations.m1_m2_of_M_eta(tot_mass,0.249)\n",
    "print(m1,m2)\n",
    "k= m1/(m1+m2)\n",
    "print(k)"
   ]
  },
  {
   "cell_type": "code",
   "execution_count": 9,
   "metadata": {},
   "outputs": [],
   "source": [
    "deriv_symbs_string = 'Mc eta a_1 DL tc phic'"
   ]
  },
  {
   "cell_type": "markdown",
   "metadata": {},
   "source": [
    "#### assign which parameters to convert to cos or log versions"
   ]
  },
  {
   "cell_type": "code",
   "execution_count": 10,
   "metadata": {},
   "outputs": [],
   "source": [
    "#conv_cos = ('dec')\n",
    "#conv_log = ('Mc','DL')"
   ]
  },
  {
   "cell_type": "markdown",
   "metadata": {},
   "source": [
    "#### choose whether to take Earth's rotation into account"
   ]
  },
  {
   "cell_type": "code",
   "execution_count": 11,
   "metadata": {},
   "outputs": [],
   "source": [
    "use_rot = 0"
   ]
  },
  {
   "cell_type": "markdown",
   "metadata": {},
   "source": [
    "#### pass all these variables to the network"
   ]
  },
  {
   "cell_type": "code",
   "execution_count": 12,
   "metadata": {},
   "outputs": [],
   "source": [
    "net.set_net_vars(\n",
    "    f=f, inj_params=inj_params,\n",
    "    deriv_symbs_string=deriv_symbs_string,\n",
    "    use_rot=use_rot\n",
    "    )"
   ]
  },
  {
   "cell_type": "markdown",
   "metadata": {},
   "source": [
    "## GW benchmarking"
   ]
  },
  {
   "cell_type": "markdown",
   "metadata": {},
   "source": [
    "#### compute the WF polarizations"
   ]
  },
  {
   "cell_type": "code",
   "execution_count": 13,
   "metadata": {},
   "outputs": [
    {
     "name": "stderr",
     "output_type": "stream",
     "text": [
      "2023-11-18 11:48:58,774 - Network - INFO : Polarizations calculated.\n"
     ]
    },
    {
     "name": "stdout",
     "output_type": "stream",
     "text": [
      "16304\n"
     ]
    }
   ],
   "source": [
    "net.calc_wf_polarizations()\n",
    "f0=net.hfc\n",
    "print(len(f0))\n",
    "#print(f0)"
   ]
  },
  {
   "cell_type": "markdown",
   "metadata": {},
   "source": [
    "#### compute the WF polarizations and their derivatives"
   ]
  },
  {
   "cell_type": "code",
   "execution_count": 14,
   "metadata": {
    "scrolled": true
   },
   "outputs": [
    {
     "name": "stderr",
     "output_type": "stream",
     "text": [
      "2023-11-18 11:48:58,837 - Network - INFO : Calculate numeric derivatives of polarizations.\n",
      "2023-11-18 11:48:58,880 - Network - INFO : Polarizations calculated.\n",
      "2023-11-18 11:49:03,626 - Network - INFO : Numeric derivatives of polarizations calculated.\n"
     ]
    },
    {
     "name": "stdout",
     "output_type": "stream",
     "text": [
      "12\n",
      "del_Mc_hfp\n",
      "del_Mc_hfc\n",
      "del_eta_hfp\n",
      "del_eta_hfc\n",
      "del_a_1_hfp\n",
      "del_a_1_hfc\n",
      "del_DL_hfp\n",
      "del_DL_hfc\n",
      "del_tc_hfp\n",
      "del_tc_hfc\n",
      "del_phic_hfp\n",
      "del_phic_hfc\n"
     ]
    }
   ],
   "source": [
    "net.calc_wf_polarizations_derivs_num()\n",
    "f1=net.del_hfpc\n",
    "print(len(f1))\n",
    "#print(f1)\n",
    "\n",
    "for key in f1.keys():\n",
    "   print(key)\n"
   ]
  },
  {
   "cell_type": "code",
   "execution_count": 15,
   "metadata": {},
   "outputs": [
    {
     "name": "stdout",
     "output_type": "stream",
     "text": [
      "<class 'numpy.ndarray'>\n"
     ]
    }
   ],
   "source": [
    "### edited in gwbench for generating waveform using j-frame parameters. \n",
    "import numpy as np\n",
    "f = np.arange(5.,1024,2**-4)\n",
    "import lal\n",
    "import lalsimulation as lalsim\n",
    "from numpy import exp, pi\n",
    "\n",
    "from gwbench.basic_relations import m1_m2_of_M_eta, M_of_Mc_eta\n",
    "from gwbench.utils import Mpc, Msun\n",
    "\n",
    "wf_symbs_string = 'f Mc eta a_1 a_2 tilt_1 tilt_2 phi_12 phi_jl theta_jn DL tc phic approximant'\n",
    "\n",
    "def hfpc(f, Mc, eta, a_1, a_2, tilt_1, tilt_2, phi_12, phi_jl, theta_jn, DL, tc, phic,  approximant, fRef=0., phiRef=0.):\n",
    "    f_min   = f[0]\n",
    "    delta_f = f[1] - f[0]\n",
    "    f_max   = f[-1] + delta_f\n",
    "\n",
    "    if not fRef: fRef = f_min\n",
    "\n",
    "    _m1, _m2 = m1_m2_of_M_eta(M_of_Mc_eta(Mc,eta),eta)\n",
    "    _m1 *= Msun\n",
    "    _m2 *= Msun\n",
    "    _DL = DL * Mpc\n",
    "\n",
    "    approx = lalsim.GetApproximantFromString(approximant)\n",
    "\n",
    "    if 'IMRPhenomX' in approximant:\n",
    "        lal_dict = lal.CreateDict()\n",
    "        lalsim.SimInspiralWaveformParamsInsertPhenomXHMThresholdMband(lal_dict, 0)\n",
    "    else:\n",
    "        lal_dict = None\n",
    "        \n",
    "    \n",
    "    iota, spin1x, spin1y, spin1z, spin2x, spin2y, spin2z = lalsim.SimInspiralTransformPrecessingNewInitialConditions(theta_jn, phi_jl, tilt_1, tilt_2, phi_12,a_1, a_2, _m1, _m2, fRef, phiRef)     \n",
    "\n",
    "    hPlus, hCross = lalsim.SimInspiralChooseFDWaveform(m1=_m1, m2=_m2,\n",
    "                                   S1x = spin1x, S1y = spin1y, S1z = spin1z,\n",
    "                                   S2x = spin2x, S2y = spin2y, S2z = spin2z,\n",
    "                                   distance = _DL, inclination = iota, phiRef = phiRef,\n",
    "                                   longAscNodes=0., eccentricity=0., meanPerAno = 0.,\n",
    "                                   deltaF=delta_f, f_min=f_min, f_max=f_max, f_ref=fRef,\n",
    "                                   LALpars=lal_dict, approximant=approx)\n",
    "\n",
    "    pf = exp(1j*(2*f*pi*tc - phic))\n",
    "    i0 = int(round((f_min-hPlus.f0) / delta_f))\n",
    "\n",
    "    hfp = pf *  hPlus.data.data[i0:i0+len(f)]\n",
    "    hfc = pf * hCross.data.data[i0:i0+len(f)]\n",
    "    #params = [iota, spin1x, spin1y, spin1z, spin2x, spin2y, spin2z]\n",
    "    return hfp\n",
    "\n",
    "a = hfpc(f, 27.9, 0.249, 0.34, 0.34, np.pi/4, np.pi/4, 0, 0, 0, 470, 0, 0, 'IMRPhenomXP', fRef=0., phiRef=0.)\n",
    "print(type(a))"
   ]
  },
  {
   "cell_type": "code",
   "execution_count": 16,
   "metadata": {},
   "outputs": [
    {
     "name": "stdout",
     "output_type": "stream",
     "text": [
      "[-2.81160092e-22-2.81160092e-22j  1.31843884e-22-3.68707448e-22j\n",
      "  3.29814834e-22-1.98997210e-22j ...  0.00000000e+00+0.00000000e+00j\n",
      "  0.00000000e+00+0.00000000e+00j  0.00000000e+00+0.00000000e+00j]\n",
      "16304\n"
     ]
    }
   ],
   "source": [
    "# gwbench code for generating the waveform using l-frame parameters\n",
    "import lal\n",
    "import lalsimulation as lalsim\n",
    "from numpy import exp, pi\n",
    "\n",
    "from gwbench.basic_relations import m1_m2_of_M_eta, M_of_Mc_eta\n",
    "from gwbench.utils import Mpc, Msun\n",
    "\n",
    "wf_symbs_string = 'f Mc eta chi1x chi1y chi1z chi2x chi2y chi2z DL tc phic iota approximant'\n",
    "\n",
    "def hfpc(f, Mc, eta, chi1x, chi1y, chi1z, chi2x, chi2y, chi2z, DL, tc, phic, iota, approximant, fRef=0., phiRef=0.):\n",
    "    f_min   = f[0]\n",
    "    delta_f = f[1] - f[0]\n",
    "    f_max   = f[-1] + delta_f\n",
    "\n",
    "    if not fRef: fRef = f_min\n",
    "\n",
    "    _m1, _m2 = m1_m2_of_M_eta(M_of_Mc_eta(Mc,eta),eta)\n",
    "    _m1 *= Msun\n",
    "    _m2 *= Msun\n",
    "    _DL = DL * Mpc\n",
    "\n",
    "    approx = lalsim.GetApproximantFromString(approximant)\n",
    "\n",
    "    if 'IMRPhenomX' in approximant:\n",
    "        lal_dict = lal.CreateDict()\n",
    "        lalsim.SimInspiralWaveformParamsInsertPhenomXHMThresholdMband(lal_dict, 0)\n",
    "    else:\n",
    "        lal_dict = None\n",
    "\n",
    "    hPlus, hCross = lalsim.SimInspiralChooseFDWaveform(m1=_m1, m2=_m2,\n",
    "                                   S1x = chi1x, S1y = chi1y, S1z = chi1z,\n",
    "                                   S2x = chi2x, S2y = chi2y, S2z = chi2z,\n",
    "                                   distance = _DL, inclination = iota, phiRef = phiRef,\n",
    "                                   longAscNodes=0., eccentricity=0., meanPerAno = 0.,\n",
    "                                   deltaF=delta_f, f_min=f_min, f_max=f_max, f_ref=fRef,\n",
    "                                   LALpars=lal_dict, approximant=approx)\n",
    "\n",
    "    pf = exp(1j*(2*f*pi*tc - phic))\n",
    "    i0 = int(round((f_min-hPlus.f0) / delta_f))\n",
    "\n",
    "    hfp = pf *  hPlus.data.data[i0:i0+len(f)]\n",
    "    hfc = pf * hCross.data.data[i0:i0+len(f)]\n",
    "\n",
    "    return hfp\n",
    "\n",
    "b= hfpc(f, 27.9, 0.249, -1.4721252956003386e-17, 0.24041630560342617, 0.2404163056034262, -1.4721252956003386e-17, 0.24041630560342617, 0.2404163056034262, 470, 0, 0, 0, 'IMRPhenomXP', fRef=0., phiRef=0.) \n",
    "print(b)\n",
    "print(len(b))"
   ]
  },
  {
   "cell_type": "code",
   "execution_count": 17,
   "metadata": {},
   "outputs": [
    {
     "data": {
      "image/png": "[encoded data removed]",
      "text/plain": [
       "<Figure size 640x480 with 1 Axes>"
      ]
     },
     "metadata": {},
     "output_type": "display_data"
    }
   ],
   "source": [
    "import matplotlib.pyplot as plt\n",
    "plt.loglog(f,np.abs(b),label= 'gwbench-lframe')\n",
    "plt.loglog(f,np.abs(a),label= 'gwbench-jframe', linestyle='dashed')\n",
    "plt.legend()\n",
    "plt.show()"
   ]
  },
  {
   "cell_type": "markdown",
   "metadata": {},
   "source": [
    "#### setup antenna patterns, location phase factors, and PSDs"
   ]
  },
  {
   "cell_type": "code",
   "execution_count": 18,
   "metadata": {},
   "outputs": [
    {
     "name": "stderr",
     "output_type": "stream",
     "text": [
      "2023-11-18 11:49:04,991 - Network - INFO : PSDs loaded.\n",
      "2023-11-18 11:49:04,998 - Network - INFO : Antenna patterns and LPFs loaded.\n"
     ]
    }
   ],
   "source": [
    "net.setup_ant_pat_lpf_psds()"
   ]
  },
  {
   "cell_type": "markdown",
   "metadata": {},
   "source": [
    "#### compute the detector responses"
   ]
  },
  {
   "cell_type": "code",
   "execution_count": 19,
   "metadata": {},
   "outputs": [
    {
     "name": "stderr",
     "output_type": "stream",
     "text": [
      "2023-11-18 11:49:05,179 - Network - INFO : Detector responses calculated.\n"
     ]
    }
   ],
   "source": [
    "net.calc_det_responses()"
   ]
  },
  {
   "cell_type": "markdown",
   "metadata": {},
   "source": [
    "#### compute the detector responses and their derivatives"
   ]
  },
  {
   "cell_type": "code",
   "execution_count": 20,
   "metadata": {},
   "outputs": [
    {
     "name": "stderr",
     "output_type": "stream",
     "text": [
      "2023-11-18 11:49:05,217 - Network - INFO : Calculate numeric derivatives of detector responses.\n",
      "2023-11-18 11:49:05,228 - Network - INFO :    aLIGO_H\n",
      "2023-11-18 11:49:07,873 - Network - INFO :    aLIGO_L\n",
      "2023-11-18 11:49:10,516 - Network - INFO :    aLIGO_V\n",
      "2023-11-18 11:49:12,910 - Network - INFO : Numeric derivatives of detector responses calculated.\n"
     ]
    }
   ],
   "source": [
    "net.calc_det_responses_derivs_num()"
   ]
  },
  {
   "cell_type": "markdown",
   "metadata": {},
   "source": [
    "#### calculate the network and detector SNRs"
   ]
  },
  {
   "cell_type": "code",
   "execution_count": 21,
   "metadata": {},
   "outputs": [
    {
     "name": "stderr",
     "output_type": "stream",
     "text": [
      "2023-11-18 11:49:12,929 - Network - INFO : SNRs calculated.\n"
     ]
    },
    {
     "name": "stdout",
     "output_type": "stream",
     "text": [
      "83.02197077776998\n"
     ]
    }
   ],
   "source": [
    "net.calc_snrs()\n",
    "print(net.detectors[2].snr)"
   ]
  },
  {
   "cell_type": "markdown",
   "metadata": {},
   "source": [
    "#### calculate the network and detector Fisher matrices, condition numbers, covariance matrices, error estimates, and inversion errors"
   ]
  },
  {
   "cell_type": "code",
   "execution_count": 22,
   "metadata": {},
   "outputs": [
    {
     "name": "stderr",
     "output_type": "stream",
     "text": [
      "2023-11-18 11:49:12,997 - Network - INFO : Calculate errors (Fisher & cov matrices).\n",
      "2023-11-18 11:49:12,998 - Network - INFO :    aLIGO_H\n",
      "2023-11-18 11:49:13,055 - Network - INFO :    aLIGO_L\n",
      "2023-11-18 11:49:13,112 - Network - INFO :    aLIGO_V\n",
      "2023-11-18 11:49:13,201 - Network - INFO : Errors calculated.\n"
     ]
    }
   ],
   "source": [
    "net.calc_errors()"
   ]
  },
  {
   "cell_type": "markdown",
   "metadata": {},
   "source": [
    "#### calculate the 90%-credible sky area (in deg)"
   ]
  },
  {
   "cell_type": "code",
   "execution_count": 23,
   "metadata": {},
   "outputs": [
    {
     "name": "stderr",
     "output_type": "stream",
     "text": [
      "2023-11-18 11:49:13,214 - Network - WARNING : calc_sky_area_90: tag = network - Nothing done due to missing of either RA or COS_DEC (DEC) errors.\n"
     ]
    }
   ],
   "source": [
    "net.calc_sky_area_90()"
   ]
  },
  {
   "cell_type": "code",
   "execution_count": 24,
   "metadata": {},
   "outputs": [
    {
     "name": "stdout",
     "output_type": "stream",
     "text": [
      "16224\n"
     ]
    }
   ],
   "source": [
    "h_ul=net.detectors[2].hf\n",
    "print(len(h_ul))\n",
    "A_ul=np.abs(h_ul)\n",
    "phi_ul= np.angle(h_ul)"
   ]
  },
  {
   "cell_type": "code",
   "execution_count": 25,
   "metadata": {},
   "outputs": [
    {
     "name": "stdout",
     "output_type": "stream",
     "text": [
      "6\n",
      "['del_Mc_hf', 'del_eta_hf', 'del_a_1_hf', 'del_DL_hf', 'del_tc_hf', 'del_phic_hf']\n",
      "16224\n",
      "[-8.23181795e-25+2.72050800e-24j  2.00795806e-23-2.01375080e-23j\n",
      "  1.01975148e-23+5.50327008e-23j -7.77954805e-23-2.86186579e-23j\n",
      "  8.17009165e-23-7.24013422e-23j  3.58036401e-23+1.29974149e-22j\n",
      " -1.57978570e-22-2.43724721e-23j  9.50490415e-23-1.57878013e-22j\n",
      "  1.29574555e-22+1.62882569e-22j -2.17684496e-22+7.85258413e-23j]\n"
     ]
    }
   ],
   "source": [
    "f2=net.detectors[2].del_hf\n",
    "print(len(f2))\n",
    "#print(f2)\n",
    "key_list = list(f2.keys()) # returns a list containing the derivatives for each parameter.\n",
    "print(key_list)\n",
    "#for i in range(len(key_list)):\n",
    "#print(f2[key_list[0]])\n",
    "print(len(f2[key_list[4]]))\n",
    "a=f2[key_list[2]]\n",
    "print(a[:10])"
   ]
  },
  {
   "cell_type": "code",
   "execution_count": 26,
   "metadata": {
    "scrolled": true
   },
   "outputs": [
    {
     "name": "stdout",
     "output_type": "stream",
     "text": [
      "[[ 6.19515173e+05 -7.57051046e+06 -2.05595813e+06 -4.18602662e-01\n",
      "  -3.30119496e+07  6.47438669e+04]\n",
      " [-7.57051046e+06  9.80503640e+07  2.69194797e+07 -1.87737022e+01\n",
      "   4.89721135e+08 -8.01608647e+05]\n",
      " [-2.05595813e+06  2.69194797e+07  7.41773876e+06 -1.88695681e+00\n",
      "   1.38457615e+08 -2.18730448e+05]\n",
      " [-4.18602662e-01 -1.87737022e+01 -1.88695681e+00  3.12012076e-02\n",
      "   2.54177031e-02 -1.18950712e-05]\n",
      " [-3.30119496e+07  4.89721135e+08  1.38457615e+08  2.54177031e-02\n",
      "   3.25996874e+09 -3.70679253e+06]\n",
      " [ 6.47438669e+04 -8.01608647e+05 -2.18730448e+05 -1.18950712e-05\n",
      "  -3.70679253e+06  6.89264707e+03]]\n"
     ]
    }
   ],
   "source": [
    "f3=net.detectors[2].fisher\n",
    "print(f3)"
   ]
  },
  {
   "cell_type": "code",
   "execution_count": 27,
   "metadata": {},
   "outputs": [
    {
     "name": "stdout",
     "output_type": "stream",
     "text": [
      "[[ 7.4557553e-04  3.2720174e-05  4.7114809e-05  3.2541234e-02\n",
      "  -3.3528904e-06 -3.5060104e-03]\n",
      " [ 3.2720174e-05  1.0479274e-05 -3.2771888e-05  4.7623389e-03\n",
      "   7.1654989e-09 -1.2474191e-04]\n",
      " [ 4.7114809e-05 -3.2771888e-05  1.4466129e-04 -1.0337292e-02\n",
      "  -9.2909914e-07 -1.6289443e-04]\n",
      " [ 3.2541234e-02  4.7623389e-03 -1.0337292e-02  3.4726971e+01\n",
      "  -9.6872282e-05 -1.3194913e-01]\n",
      " [-3.3528904e-06  7.1654989e-09 -9.2909914e-07 -9.6872282e-05\n",
      "   2.0519133e-08  1.3878690e-05]\n",
      " [-3.5060104e-03 -1.2474191e-04 -1.6289443e-04 -1.3194913e-01\n",
      "   1.3878690e-05  2.0864831e-02]]\n"
     ]
    }
   ],
   "source": [
    "cov_matrix =net.detectors[2].cov\n",
    "print(cov_matrix)"
   ]
  },
  {
   "cell_type": "code",
   "execution_count": 28,
   "metadata": {},
   "outputs": [
    {
     "name": "stdout",
     "output_type": "stream",
     "text": [
      "0.027305229\n",
      "0.0032371706\n",
      "0.012027523\n",
      "5.8929596\n",
      "0.00014324501\n",
      "0.14444664\n"
     ]
    }
   ],
   "source": [
    "for i in np.arange(0,6):\n",
    "   err= np.sqrt(cov_matrix[i,i])\n",
    "   print(err)\n",
    "                \n"
   ]
  },
  {
   "cell_type": "code",
   "execution_count": 29,
   "metadata": {},
   "outputs": [
    {
     "name": "stdout",
     "output_type": "stream",
     "text": [
      "116003299299.99388\n"
     ]
    }
   ],
   "source": [
    "from gwbench import fisher_analysis_tools\n",
    "n=fisher_analysis_tools.calc_cond_number(f3)\n",
    "print(n)"
   ]
  },
  {
   "cell_type": "code",
   "execution_count": 30,
   "metadata": {},
   "outputs": [
    {
     "name": "stdout",
     "output_type": "stream",
     "text": [
      "8.650519031141867\n"
     ]
    }
   ],
   "source": [
    "v = 0.34\n",
    "w = v**2\n",
    "print(1/w)"
   ]
  },
  {
   "cell_type": "code",
   "execution_count": 31,
   "metadata": {},
   "outputs": [
    {
     "name": "stdout",
     "output_type": "stream",
     "text": [
      "[[ 6.19515173e+05 -7.57051046e+06 -2.05595813e+06 -4.18602662e-01\n",
      "  -3.30119496e+07  6.47438669e+04]\n",
      " [-7.57051046e+06  9.80503640e+07  2.69194797e+07 -1.87737022e+01\n",
      "   4.89721135e+08 -8.01608647e+05]\n",
      " [-2.05595813e+06  2.69194797e+07  7.41773876e+06 -1.88695681e+00\n",
      "   1.38457615e+08 -2.18730448e+05]\n",
      " [-4.18602662e-01 -1.87737022e+01 -1.88695681e+00  3.12012076e-02\n",
      "   2.54177031e-02 -1.18950712e-05]\n",
      " [-3.30119496e+07  4.89721135e+08  1.38457615e+08  2.54177031e-02\n",
      "   3.25996874e+09 -3.70679253e+06]\n",
      " [ 6.47438669e+04 -8.01608647e+05 -2.18730448e+05 -1.18950712e-05\n",
      "  -3.70679253e+06  6.89274839e+03]]\n"
     ]
    }
   ],
   "source": [
    "n = 6\n",
    "prior_matrix = np.zeros((n, n), dtype=float)\n",
    "#prior_matrix[2,2] = 10000\n",
    "#prior_matrix[3,3] = 1/(np.pi/4)**2,\n",
    "prior_matrix[5,5] = 1/(np.pi**2)\n",
    "#print(prior_matrix)\n",
    "prior_fisher = f3 + prior_matrix\n",
    "print(prior_fisher)"
   ]
  },
  {
   "cell_type": "code",
   "execution_count": 32,
   "metadata": {},
   "outputs": [],
   "source": [
    "def invertSVD(matrix):\n",
    "    '''\n",
    "    Adapted from GWFish\n",
    "    '''\n",
    "    thresh = 1e-10\n",
    "\n",
    "    dm = np.sqrt(np.diag(matrix))\n",
    "    normalizer = np.outer(dm, dm)\n",
    "    matrix_norm = matrix / normalizer\n",
    "\n",
    "    [U, S, Vh] = np.linalg.svd(matrix_norm)\n",
    "\n",
    "    kVal = sum(S > thresh)\n",
    "    matrix_inverse_norm = U[:, 0:kVal] @ np.diag(1. / S[0:kVal]) @ Vh[0:kVal, :]\n",
    "\n",
    "    # print(matrix @ (matrix_inverse_norm / normalizer))\n",
    "\n",
    "    return matrix_inverse_norm / normalizer, S"
   ]
  },
  {
   "cell_type": "code",
   "execution_count": 33,
   "metadata": {},
   "outputs": [],
   "source": [
    "new_cov = invertSVD(prior_fisher)"
   ]
  },
  {
   "cell_type": "code",
   "execution_count": 34,
   "metadata": {},
   "outputs": [
    {
     "name": "stdout",
     "output_type": "stream",
     "text": [
      "[[ 7.44332681e-04  3.26759558e-05  4.70570640e-05  3.24944614e-02\n",
      "  -3.34797056e-06 -3.49861407e-03]\n",
      " [ 3.26759558e-05  1.04777014e-05 -3.27739419e-05  4.76067494e-03\n",
      "   7.34054161e-09 -1.24478766e-04]\n",
      " [ 4.70570640e-05 -3.27739419e-05  1.44658599e-04 -1.03394655e-02\n",
      "  -9.28870540e-07 -1.62550796e-04]\n",
      " [ 3.24944614e-02  4.76067494e-03 -1.03394655e-02  3.47252114e+01\n",
      "  -9.66871281e-05 -1.31670773e-01]\n",
      " [-3.34797056e-06  7.34054161e-09 -9.28870540e-07 -9.66871281e-05\n",
      "   2.04996576e-08  1.38494115e-05]\n",
      " [-3.49861407e-03 -1.24478766e-04 -1.62550796e-04 -1.31670773e-01\n",
      "   1.38494115e-05  2.08208143e-02]]\n"
     ]
    }
   ],
   "source": [
    "print(new_cov[0])"
   ]
  },
  {
   "cell_type": "code",
   "execution_count": 35,
   "metadata": {},
   "outputs": [
    {
     "name": "stdout",
     "output_type": "stream",
     "text": [
      "116003299299.99388\n"
     ]
    }
   ],
   "source": [
    "from gwbench import fisher_analysis_tools\n",
    "n=fisher_analysis_tools.calc_cond_number(f3)\n",
    "print(n)"
   ]
  },
  {
   "cell_type": "code",
   "execution_count": 36,
   "metadata": {},
   "outputs": [
    {
     "name": "stdout",
     "output_type": "stream",
     "text": [
      "0.02728246105362757\n",
      "0.0032369277644520075\n",
      "0.012027410327338863\n",
      "5.892810140930428\n",
      "0.00014317701492309865\n",
      "0.144294193680793\n"
     ]
    }
   ],
   "source": [
    "for i in np.arange(0,6):\n",
    "   err= np.sqrt(new_cov[0][i,i])\n",
    "   print(err)\n",
    "### due to sufficiently high SNR ,gaussian priors does not have a significant effect  "
   ]
  },
  {
   "cell_type": "markdown",
   "metadata": {},
   "source": [
    "#### calculation of systematic errors"
   ]
  },
  {
   "cell_type": "code",
   "execution_count": 37,
   "metadata": {},
   "outputs": [
    {
     "name": "stdout",
     "output_type": "stream",
     "text": [
      "59\n"
     ]
    }
   ],
   "source": [
    "from gwbench.wf_models import py_lgw\n",
    "lgw = py_lgw.lensed_wf_gen()\n",
    "x = (1e1, 5e1, 1e2, 5e2, 1e3, 5e3, 1e4, 5e4, 1e5)\n",
    "y = (0.01, 0.05, 0.1, 0.5, 1.0, 3.0, 5.0)\n",
    "chirp_time = lgw.tchirp_2PN(64.25, 0.249, f_low=10) # returns the chirptime given the total mass,eta and low frequency cut off.\n",
    "#print(chirp_time)\n",
    "ml_y_pairs = []\n",
    "for i in x:\n",
    "    for j in y:\n",
    "        time_delay= lgw.td_point_sec(i, j, zl=0)\n",
    "        if time_delay < chirp_time:\n",
    "            pairs = (i,j)\n",
    "            ml_y_pairs.append(pairs)\n",
    "\n",
    "print(len(ml_y_pairs))  "
   ]
  },
  {
   "cell_type": "code",
   "execution_count": 38,
   "metadata": {},
   "outputs": [
    {
     "name": "stdout",
     "output_type": "stream",
     "text": [
      "59\n"
     ]
    }
   ],
   "source": [
    "delta_h_list=[]\n",
    "for i,j in  ml_y_pairs:\n",
    "        fs = net.detectors[2].f # returns the truncated frequency array tto the range dictated by the given detector’s PSD\n",
    "        ws = lgw.w_of_f(fs, ml=i) #Converts a dimensionful frequency (f) to the dimensionless frequency (w)\n",
    "        Fws = lgw.point_Fw_eff_map(ws,j) # returns an array containing amplification factors\n",
    "    \n",
    "        #calculation of  amplitude differences and (A_l-A_ul) and Phase differences using the analytical formula.\n",
    "        R = np.abs(Fws)\n",
    "        phi = np.angle(Fws)\n",
    "        delta_A = A_ul*(R-1)\n",
    "        delta_phi = phi\n",
    "\n",
    "        # calculation of deta_h (h_l-h_ul) (reference - Eq.30 arXiv:0707.2982)\n",
    "        delta_h = (delta_A + 1j*A_ul*delta_phi)*np.exp(1j*phi_ul)\n",
    "        delta_h_list.append(delta_h)\n",
    "\n",
    "print(len(delta_h_list))"
   ]
  },
  {
   "cell_type": "code",
   "execution_count": 39,
   "metadata": {},
   "outputs": [
    {
     "name": "stdout",
     "output_type": "stream",
     "text": [
      "354\n"
     ]
    }
   ],
   "source": [
    "import gwbench.snr as snr_mod\n",
    "inner_product_list=[]\n",
    "for j in range(len(delta_h_list)):\n",
    "    for i in range(len(key_list)):\n",
    "         inner_product = snr_mod.scalar_product_freq_array(delta_h_list[j], f2[key_list[i]], net.detectors[2].psd, fs)\n",
    "         inner_product_list.append(inner_product)\n",
    "print(len(inner_product_list))"
   ]
  },
  {
   "cell_type": "code",
   "execution_count": 40,
   "metadata": {},
   "outputs": [
    {
     "name": "stdout",
     "output_type": "stream",
     "text": [
      "59\n",
      "[10257.550832205028, -142101.27249290637, -40046.79644917145, -1.2428307160166474, -857319.467247815, 1122.1322738677738]\n"
     ]
    }
   ],
   "source": [
    "inner_list_length = 6\n",
    "sep_inner_product = [inner_product_list[i:i + inner_list_length] for i in range(0, len(inner_product_list), inner_list_length)]\n",
    "print(len(sep_inner_product))\n",
    "print(sep_inner_product[0])"
   ]
  },
  {
   "cell_type": "code",
   "execution_count": 48,
   "metadata": {},
   "outputs": [
    {
     "name": "stdout",
     "output_type": "stream",
     "text": [
      "59\n",
      "[7.90207146e-02 7.90102525e-02 7.89775595e-02 7.79322798e-02\n",
      " 7.46791858e-02 4.30154135e-02 1.02174682e-02 3.99601599e-01\n",
      " 3.99195323e-01 3.97926705e-01 3.58169347e-01 2.47100012e-01\n",
      " 1.17149698e-02 2.08749438e-03 7.65221471e-01 7.62998128e-01\n",
      " 7.56072096e-01 5.52746494e-01 2.25840528e-01 2.62132369e-04\n",
      " 3.48721689e-04 2.69146651e+00 2.57060560e+00 2.22194303e+00\n",
      " 4.52192152e-01 1.06066685e-01 7.65445700e-03 1.19381352e-03\n",
      " 4.19335304e+00 3.55093218e+00 2.37260682e+00 3.59524713e-01\n",
      " 1.08245784e-01 6.16990138e-03 9.23693055e-04 9.17553040e+00\n",
      " 3.35046766e+00 1.78822822e+00 3.86028335e-01 1.22388216e-01\n",
      " 6.40459139e-03 1.02374156e-03 9.68975309e+00 2.91267471e+00\n",
      " 1.82010569e+00 3.83647985e-01 1.21864898e-01 6.28550853e-03\n",
      " 1.03619223e-03 7.68599792e+00 3.04591462e+00 1.86755902e+00\n",
      " 3.82163283e-01 1.21778384e-01 7.90626655e+00 3.03948262e+00\n",
      " 1.86523383e+00 3.82019580e-01 1.21936735e-01]\n"
     ]
    }
   ],
   "source": [
    "delta_p_list=[]\n",
    "\n",
    "for i in range (len(sep_inner_product)):\n",
    "    error =0\n",
    "    for j in range (0,6):\n",
    "      \n",
    "           error += new_cov[0][3,j]* sep_inner_product[i][j]\n",
    "    delta_p_list.append(error)\n",
    "\n",
    "print(len(delta_p_list))\n",
    "abs_err=np.abs(delta_p_list)/470\n",
    "print(abs_err)"
   ]
  },
  {
   "cell_type": "code",
   "execution_count": 49,
   "metadata": {},
   "outputs": [
    {
     "name": "stdout",
     "output_type": "stream",
     "text": [
      "21\n",
      "[   100.    100.    100.    500.    500.    500.   1000.   1000.   1000.\n",
      "   5000.   5000.   5000.  10000.  10000.  10000.  50000.  50000.  50000.\n",
      " 100000. 100000. 100000.]\n",
      "[0.01 0.05 0.1  0.01 0.05 0.1  0.01 0.05 0.1  0.01 0.05 0.1  0.01 0.05\n",
      " 0.1  0.01 0.05 0.1  0.01 0.05 0.1 ]\n",
      "[0.76522147 0.76299813 0.7560721  2.69146651 2.5706056  2.22194303\n",
      " 4.19335304 3.55093218 2.37260682 9.1755304  3.35046766 1.78822822\n",
      " 9.68975309 2.91267471 1.82010569 7.68599792 3.04591462 1.86755902\n",
      " 7.90626655 3.03948262 1.86523383]\n"
     ]
    }
   ],
   "source": [
    "samples= np.column_stack(ml_y_pairs).T\n",
    "masses =np.array(samples[:,0])\n",
    "y= np.array(samples[:, 1])\n",
    "err=np.array(abs_err)\n",
    "indices = np.where(abs_err>0.6)\n",
    "ml_check = masses[indices]\n",
    "y_check = y[indices]\n",
    "err_check = err[indices]\n",
    "print(len(ml_check))\n",
    "print(ml_check)\n",
    "print(y_check)\n",
    "print(err_check)"
   ]
  },
  {
   "cell_type": "code",
   "execution_count": 50,
   "metadata": {},
   "outputs": [
    {
     "data": {
      "image/png": "[encoded data removed]",
      "text/plain": [
       "<Figure size 640x480 with 2 Axes>"
      ]
     },
     "metadata": {},
     "output_type": "display_data"
    }
   ],
   "source": [
    "import matplotlib.pyplot as plt\n",
    "\n",
    "map = plt.cm.get_cmap('viridis')\n",
    "reversed_map= map.reversed(map) \n",
    "plot = plt.scatter(samples[:, 0], samples[:, 1], c=abs_err, cmap=reversed_map,  s=10)\n",
    "plt.xlabel(r'$\\log \\mathcal{M}_{lz}$')\n",
    "plt.ylabel(r'$y$')\n",
    "plt.xscale('log')\n",
    "plt.yscale('log')\n",
    "# ticks_list = []\n",
    "cbar = plt.colorbar(plot)\n",
    "# cbar.set_ticklabels(list(map(str, ticks_list)))\n",
    "plt.title('Absolute Errors')\n",
    "plt.savefig('Abs_Errors in eta.png',dpi=300, bbox_inches='tight')\n",
    "plt.show()"
   ]
  },
  {
   "cell_type": "code",
   "execution_count": 44,
   "metadata": {},
   "outputs": [
    {
     "name": "stdout",
     "output_type": "stream",
     "text": [
      "11.21007022487382\n"
     ]
    }
   ],
   "source": [
    "fs = net.detectors[0].f # returns the truncated frequency array tto the range dictated by the given detector’s PSD\n",
    "ws = lgw.w_of_f(fs, ml=10000) #Converts a dimensionful frequency (f) to the dimensionless frequency (w)\n",
    "Fws = lgw.point_Fw_eff_map(ws,0.01)\n",
    "h_l = h_ul*Fws\n",
    "#print(len(h_l))\n",
    "snr_ul=snr_mod.snr_freq_array(h_ul,net.detectors[0].psd,fs)\n",
    "snr_l =snr_mod.snr_freq_array(h_l,net.detectors[0].psd,fs)\n",
    "print(snr_l/snr_ul)"
   ]
  },
  {
   "cell_type": "code",
   "execution_count": null,
   "metadata": {},
   "outputs": [],
   "source": []
  }
 ],
 "metadata": {
  "kernelspec": {
   "display_name": "Python 3 (ipykernel)",
   "language": "python",
   "name": "python3"
  },
  "language_info": {
   "codemirror_mode": {
    "name": "ipython",
    "version": 3
   },
   "file_extension": ".py",
   "mimetype": "text/x-python",
   "name": "python",
   "nbconvert_exporter": "python",
   "pygments_lexer": "ipython3",
   "version": "3.10.12"
  }
 },
 "nbformat": 4,
 "nbformat_minor": 4
}
