{
 "cells": [
  {
   "cell_type": "code",
   "execution_count": 1,
   "id": "698f8be8-9b60-48a9-9273-1e7d274ddf69",
   "metadata": {},
   "outputs": [
    {
     "name": "stderr",
     "output_type": "stream",
     "text": [
      "/home/sreelakshmi.m/softwares/anaconda3/envs/igwn-py310/lib/python3.10/site-packages/pandas/core/computation/expressions.py:21: UserWarning: Pandas requires version '2.8.0' or newer of 'numexpr' (version '2.7.3' currently installed).\n",
      "  from pandas.core.computation.check import NUMEXPR_INSTALLED\n",
      "/home/sreelakshmi.m/softwares/anaconda3/envs/igwn-py310/lib/python3.10/site-packages/pyRing/utils.py:60: UserWarning: * The `surfinBH` package is not automatically installed due to possible conflicts. If you wish to use its functionalities, it needs to be installed separately.\n",
      "  warnings.warn(\"* The `surfinBH` package is not automatically installed due to possible conflicts. If you wish to use its functionalities, it needs to be installed separately.\")\n"
     ]
    }
   ],
   "source": [
    "import numpy as np\n",
    "from gwbench import network"
   ]
  },
  {
   "cell_type": "code",
   "execution_count": 2,
   "id": "02790a95-1e49-407c-9152-faee7b330a2d",
   "metadata": {},
   "outputs": [],
   "source": [
    "network_spec = ['aLIGO_H','aLIGO_L','aLIGO_V']\n",
    "\n",
    "net = network.Network(network_spec)"
   ]
  },
  {
   "cell_type": "code",
   "execution_count": 3,
   "id": "69d2503f-0ed6-425d-9e4c-a7e37a81414b",
   "metadata": {},
   "outputs": [],
   "source": [
    "wf_model_name = 'kerr_BH'\n",
    "net.set_wf_vars(wf_model_name=wf_model_name)"
   ]
  },
  {
   "cell_type": "code",
   "execution_count": 247,
   "id": "4451c781-6d34-479f-a57e-fd604366d16c",
   "metadata": {},
   "outputs": [],
   "source": [
    "f = np.arange(5.,1024,2**-4)"
   ]
  },
  {
   "cell_type": "code",
   "execution_count": 338,
   "id": "967b6d5f",
   "metadata": {},
   "outputs": [],
   "source": [
    "inj_params = {\n",
    "    'Mc':    27.9,\n",
    "    't0':   0.0033,\n",
    "    'Mf':   61.5,\n",
    "    'af':   0.68,\n",
    "    'A_lmn':{(2,2,2,0): (5,5)},\n",
    "    'DL':    470,\n",
    "    'phi':   np.pi/4,\n",
    "    'tc':    0,\n",
    "    'phic':  0,\n",
    "    'iota':  np.pi/4,\n",
    "    'ra':    np.pi,\n",
    "    'dec':   np.pi/2,\n",
    "    'psi':   np.pi/4,\n",
    "    'gmst0': 0\n",
    "    }"
   ]
  },
  {
   "cell_type": "code",
   "execution_count": 339,
   "id": "f0a5872b",
   "metadata": {},
   "outputs": [],
   "source": [
    "deriv_symbs_string = 'Mf af DL'"
   ]
  },
  {
   "cell_type": "code",
   "execution_count": 340,
   "id": "d4c16196",
   "metadata": {},
   "outputs": [],
   "source": [
    "use_rot = 0\n",
    "net.set_net_vars(\n",
    "    f=f, inj_params=inj_params,\n",
    "    deriv_symbs_string=deriv_symbs_string,\n",
    "    use_rot=use_rot\n",
    "    )"
   ]
  },
  {
   "cell_type": "code",
   "execution_count": 341,
   "id": "ad361733",
   "metadata": {},
   "outputs": [
    {
     "name": "stderr",
     "output_type": "stream",
     "text": [
      "2023-12-08 11:07:42,519 - Network - INFO : Polarizations calculated.\n"
     ]
    }
   ],
   "source": [
    "net.calc_wf_polarizations()"
   ]
  },
  {
   "cell_type": "code",
   "execution_count": 342,
   "id": "fe4cc9f8",
   "metadata": {},
   "outputs": [
    {
     "name": "stderr",
     "output_type": "stream",
     "text": [
      "2023-12-08 11:07:43,986 - Network - INFO : Calculate numeric derivatives of polarizations.\n",
      "2023-12-08 11:07:44,034 - Network - INFO : Polarizations calculated.\n",
      "2023-12-08 11:07:46,646 - Network - INFO : Numeric derivatives of polarizations calculated.\n"
     ]
    },
    {
     "name": "stdout",
     "output_type": "stream",
     "text": [
      "6\n",
      "del_Mf_hfp\n",
      "del_Mf_hfc\n",
      "del_af_hfp\n",
      "del_af_hfc\n",
      "del_DL_hfp\n",
      "del_DL_hfc\n"
     ]
    }
   ],
   "source": [
    "net.calc_wf_polarizations_derivs_num()\n",
    "f1=net.del_hfpc\n",
    "print(len(f1))\n",
    "#print(f1)\n",
    "\n",
    "for key in f1.keys():\n",
    "   print(key)\n"
   ]
  },
  {
   "cell_type": "code",
   "execution_count": 343,
   "id": "8a5f84f8",
   "metadata": {},
   "outputs": [
    {
     "name": "stderr",
     "output_type": "stream",
     "text": [
      "2023-12-08 11:07:47,712 - Network - INFO : PSDs loaded.\n",
      "2023-12-08 11:07:47,720 - Network - INFO : Antenna patterns and LPFs loaded.\n"
     ]
    }
   ],
   "source": [
    "net.setup_ant_pat_lpf_psds()"
   ]
  },
  {
   "cell_type": "code",
   "execution_count": 344,
   "id": "f73fad4a",
   "metadata": {},
   "outputs": [
    {
     "name": "stderr",
     "output_type": "stream",
     "text": [
      "2023-12-08 11:07:49,796 - Network - INFO : Detector responses calculated.\n"
     ]
    }
   ],
   "source": [
    "net.calc_det_responses()"
   ]
  },
  {
   "cell_type": "code",
   "execution_count": 345,
   "id": "0be00333",
   "metadata": {},
   "outputs": [
    {
     "name": "stderr",
     "output_type": "stream",
     "text": [
      "2023-12-08 11:07:51,411 - Network - INFO : Calculate numeric derivatives of detector responses.\n",
      "2023-12-08 11:07:51,412 - Network - INFO :    aLIGO_H\n",
      "2023-12-08 11:07:52,693 - Network - INFO :    aLIGO_L\n",
      "2023-12-08 11:07:54,016 - Network - INFO :    aLIGO_V\n",
      "2023-12-08 11:07:55,182 - Network - INFO : Numeric derivatives of detector responses calculated.\n"
     ]
    }
   ],
   "source": [
    "net.calc_det_responses_derivs_num()"
   ]
  },
  {
   "cell_type": "code",
   "execution_count": 346,
   "id": "3938ef17",
   "metadata": {},
   "outputs": [
    {
     "name": "stderr",
     "output_type": "stream",
     "text": [
      "2023-12-08 11:07:56,775 - Network - INFO : SNRs calculated.\n"
     ]
    },
    {
     "name": "stdout",
     "output_type": "stream",
     "text": [
      "139.86623690710417 129.25999727457065 79.60898703024795\n"
     ]
    }
   ],
   "source": [
    "net.calc_snrs()\n",
    "print(net.detectors[0].snr,net.detectors[1].snr,net.detectors[2].snr)"
   ]
  },
  {
   "cell_type": "code",
   "execution_count": 347,
   "id": "b2f71952",
   "metadata": {},
   "outputs": [
    {
     "name": "stdout",
     "output_type": "stream",
     "text": [
      "139.86623690710417 129.25999727457065 79.60898703024795\n"
     ]
    }
   ],
   "source": [
    "print(net.detectors[0].snr,net.detectors[1].snr,net.detectors[2].snr)"
   ]
  },
  {
   "cell_type": "code",
   "execution_count": 348,
   "id": "4a60e4ed",
   "metadata": {},
   "outputs": [
    {
     "name": "stderr",
     "output_type": "stream",
     "text": [
      "2023-12-08 11:08:02,568 - Network - INFO : Calculate errors (Fisher & cov matrices).\n",
      "2023-12-08 11:08:02,569 - Network - INFO :    aLIGO_H\n",
      "2023-12-08 11:08:02,839 - Network - INFO :    aLIGO_L\n",
      "2023-12-08 11:08:02,867 - Network - INFO :    aLIGO_V\n",
      "2023-12-08 11:08:02,900 - Network - INFO : Errors calculated.\n"
     ]
    }
   ],
   "source": [
    "net.calc_errors()"
   ]
  },
  {
   "cell_type": "code",
   "execution_count": 349,
   "id": "25bdfeca",
   "metadata": {},
   "outputs": [
    {
     "name": "stderr",
     "output_type": "stream",
     "text": [
      "2023-12-08 11:08:04,640 - Network - WARNING : calc_sky_area_90: tag = network - Nothing done due to missing of either RA or COS_DEC (DEC) errors.\n"
     ]
    }
   ],
   "source": [
    "net.calc_sky_area_90()"
   ]
  },
  {
   "cell_type": "code",
   "execution_count": 380,
   "id": "e4f9cd87",
   "metadata": {},
   "outputs": [
    {
     "name": "stdout",
     "output_type": "stream",
     "text": [
      "16224\n"
     ]
    }
   ],
   "source": [
    "h_ul=net.detectors[0].hf\n",
    "print(len(h_ul))\n",
    "A_ul=np.abs(h_ul)\n",
    "phi_ul= np.angle(h_ul)"
   ]
  },
  {
   "cell_type": "code",
   "execution_count": 381,
   "id": "c2326786",
   "metadata": {},
   "outputs": [
    {
     "name": "stdout",
     "output_type": "stream",
     "text": [
      "3\n",
      "['del_Mf_hf', 'del_af_hf', 'del_DL_hf']\n",
      "16224\n",
      "[-0.00000000e+00+0.00000000e+00j -1.08141506e-26-1.07220433e-26j\n",
      " -1.05295325e-26-1.09630057e-26j -1.02593277e-26-1.12162714e-26j\n",
      " -1.00025671e-26-1.14828880e-26j -9.69987494e-27-1.17015515e-26j\n",
      " -9.43148934e-27-1.19591894e-26j -9.13817030e-27-1.21838690e-26j\n",
      " -8.82114159e-27-1.23810615e-26j -8.53336406e-27-1.26166272e-26j]\n"
     ]
    }
   ],
   "source": [
    "f2=net.detectors[0].del_hf\n",
    "print(len(f2))\n",
    "#print(f2)\n",
    "key_list = list(f2.keys()) # returns a list containing the derivatives for each parameter.\n",
    "print(key_list)\n",
    "#for i in range(len(key_list)):\n",
    "#print(f2[key_list[0]])\n",
    "print(len(f2[key_list[2]]))\n",
    "a=f2[key_list[2]]\n",
    "print(a[:10])"
   ]
  },
  {
   "cell_type": "code",
   "execution_count": 352,
   "id": "3d426ded",
   "metadata": {},
   "outputs": [
    {
     "name": "stdout",
     "output_type": "stream",
     "text": [
      "[[ 1.27020126e+02 -5.18849078e+03 -1.01697213e+00]\n",
      " [-5.18849078e+03  2.54131965e+05 -1.17859522e+01]\n",
      " [-1.01697213e+00 -1.17859522e+01  8.85113037e-02]]\n"
     ]
    }
   ],
   "source": [
    "f3=net.detectors[0].fisher\n",
    "print(f3)"
   ]
  },
  {
   "cell_type": "code",
   "execution_count": 355,
   "id": "66699245",
   "metadata": {},
   "outputs": [
    {
     "name": "stdout",
     "output_type": "stream",
     "text": [
      "[[3.2157186e-01 6.7785941e-03 4.5973992e+00]\n",
      " [6.7785941e-03 1.4684920e-04 9.7438388e-02]\n",
      " [4.5973992e+00 9.7438388e-02 7.7095589e+01]]\n"
     ]
    }
   ],
   "source": [
    "cov_matrix =net.detectors[0].cov\n",
    "print(cov_matrix)"
   ]
  },
  {
   "cell_type": "code",
   "execution_count": 356,
   "id": "79d48498",
   "metadata": {},
   "outputs": [
    {
     "name": "stdout",
     "output_type": "stream",
     "text": [
      "0.56707305\n",
      "0.012118135\n",
      "8.78041\n"
     ]
    }
   ],
   "source": [
    "for i in np.arange(0,3):\n",
    "   err= np.sqrt(cov_matrix[i,i])\n",
    "   print(err)"
   ]
  },
  {
   "cell_type": "code",
   "execution_count": 360,
   "id": "9c39b351",
   "metadata": {},
   "outputs": [
    {
     "name": "stdout",
     "output_type": "stream",
     "text": [
      "59\n"
     ]
    }
   ],
   "source": [
    "import sys\n",
    "sys.path.append('/home/sreelakshmi.m/gwmat/src')\n",
    "import py_lgw\n",
    "lgw = py_lgw.lensed_wf_gen()\n",
    "x = (1e1, 5e1, 1e2, 5e2, 1e3, 5e3, 1e4, 5e4, 1e5)\n",
    "y = (0.01, 0.05, 0.1, 0.5, 1.0, 3.0, 5.0)\n",
    "chirp_time = lgw.tchirp_2PN(64, 0.249, f_low=10) # returns the chirptime given the total mass,eta and low frequency cut off.\n",
    "#print(chirp_time)\n",
    "ml_y_pairs = []\n",
    "for i in x:\n",
    "    for j in y:\n",
    "        time_delay= lgw.td_point_sec(i, j, zl=0)\n",
    "        if time_delay < chirp_time:\n",
    "            pairs = (i,j)\n",
    "            ml_y_pairs.append(pairs)\n",
    "\n",
    "print(len(ml_y_pairs))"
   ]
  },
  {
   "cell_type": "code",
   "execution_count": 382,
   "id": "748d4933",
   "metadata": {},
   "outputs": [
    {
     "name": "stdout",
     "output_type": "stream",
     "text": [
      "59\n"
     ]
    }
   ],
   "source": [
    "delta_h_list=[]\n",
    "for i,j in  ml_y_pairs:\n",
    "        fs = net.detectors[0].f # returns the truncated frequency array tto the range dictated by the given detector’s PSD\n",
    "        ws = lgw.w_of_f(fs, ml=i) #Converts a dimensionful frequency (f) to the dimensionless frequency (w)\n",
    "        Fws = lgw.point_Fw_eff_map(ws,j) # returns an array containing amplification factors\n",
    "    \n",
    "        #calculation of  amplitude differences and (A_l-A_ul) and Phase differences using the analytical formula.\n",
    "        R = np.abs(Fws)\n",
    "        phi = np.angle(Fws)\n",
    "        delta_A = A_ul*(R-1)\n",
    "        delta_phi = phi\n",
    "\n",
    "        # calculation of deta_h (h_l-h_ul) (reference - Eq.30 arXiv:0707.2982)\n",
    "        delta_h = (delta_A + 1j*A_ul*delta_phi)*np.exp(1j*phi_ul)\n",
    "        delta_h_list.append(delta_h)\n",
    "\n",
    "print(len(delta_h_list))"
   ]
  },
  {
   "cell_type": "code",
   "execution_count": 383,
   "id": "fee1e5ec",
   "metadata": {},
   "outputs": [
    {
     "name": "stdout",
     "output_type": "stream",
     "text": [
      "177\n"
     ]
    }
   ],
   "source": [
    "import gwbench.snr as snr_mod\n",
    "inner_product_list=[]\n",
    "for j in range(len(delta_h_list)):\n",
    "    for i in range(len(key_list)):\n",
    "         inner_product = snr_mod.scalar_product_freq_array(delta_h_list[j], f2[key_list[i]], net.detectors[0].psd, fs)\n",
    "         inner_product_list.append(inner_product)\n",
    "print(len(inner_product_list))"
   ]
  },
  {
   "cell_type": "code",
   "execution_count": 384,
   "id": "c816579f",
   "metadata": {},
   "outputs": [
    {
     "name": "stdout",
     "output_type": "stream",
     "text": [
      "59\n",
      "[492.4681472040643, -15245.724651581651, -10.93095868257912]\n"
     ]
    }
   ],
   "source": [
    "inner_list_length = 3\n",
    "sep_inner_product = [inner_product_list[i:i + inner_list_length] for i in range(0, len(inner_product_list), inner_list_length)]\n",
    "print(len(sep_inner_product))\n",
    "print(sep_inner_product[0])"
   ]
  },
  {
   "cell_type": "code",
   "execution_count": 397,
   "id": "f2c15ebc",
   "metadata": {},
   "outputs": [
    {
     "name": "stdout",
     "output_type": "stream",
     "text": [
      "59\n",
      "[1.36542210e-01 1.41949327e-01 1.48360157e-01 1.86209753e-01\n",
      " 2.02097701e-01 3.45269488e-02 7.56682115e-03 9.97364506e-01\n",
      " 1.01980956e+00 1.03760063e+00 8.35878108e-01 1.83804483e-01\n",
      " 9.47332885e-03 9.50872541e-04 1.82824405e+00 1.85466289e+00\n",
      " 1.83436920e+00 6.37548181e-01 1.56939009e-01 7.58741998e-03\n",
      " 1.02653781e-03 5.39705070e+00 4.30465812e+00 2.48630666e+00\n",
      " 3.58211275e-01 1.20890531e-01 6.36905941e-03 1.03477270e-03\n",
      " 7.84488393e+00 3.80671563e+00 1.61866531e+00 3.80280709e-01\n",
      " 1.21474935e-01 6.32549278e-03 1.03058296e-03 9.30384003e+00\n",
      " 3.57299749e+00 1.83626252e+00 3.81454572e-01 1.21859085e-01\n",
      " 6.34411674e-03 1.03294669e-03 6.42622054e+00 2.98436879e+00\n",
      " 1.86160167e+00 3.81436442e-01 1.21872555e-01 6.34411950e-03\n",
      " 1.03186907e-03 7.85964323e+00 3.03222405e+00 1.86213819e+00\n",
      " 3.81579443e-01 1.21894127e-01 8.00271996e+00 3.03201938e+00\n",
      " 1.86227335e+00 3.81672920e-01 1.21871277e-01]\n"
     ]
    }
   ],
   "source": [
    "delta_p_list=[]\n",
    "\n",
    "for i in range (len(sep_inner_product)):\n",
    "    error =0\n",
    "    for j in range (0,3):\n",
    "      \n",
    "           error += cov_matrix[2,j]* sep_inner_product[i][j]\n",
    "    delta_p_list.append(error)\n",
    "\n",
    "print(len(delta_p_list))\n",
    "abs_err=np.abs(delta_p_list)/470\n",
    "print(abs_err)"
   ]
  },
  {
   "cell_type": "code",
   "execution_count": 398,
   "id": "afc6f208",
   "metadata": {},
   "outputs": [
    {
     "name": "stdout",
     "output_type": "stream",
     "text": [
      "26\n",
      "[5.e+01 5.e+01 5.e+01 5.e+01 1.e+02 1.e+02 1.e+02 1.e+02 5.e+02 5.e+02\n",
      " 5.e+02 1.e+03 1.e+03 1.e+03 5.e+03 5.e+03 5.e+03 1.e+04 1.e+04 1.e+04\n",
      " 5.e+04 5.e+04 5.e+04 1.e+05 1.e+05 1.e+05]\n",
      "[0.01 0.05 0.1  0.5  0.01 0.05 0.1  0.5  0.01 0.05 0.1  0.01 0.05 0.1\n",
      " 0.01 0.05 0.1  0.01 0.05 0.1  0.01 0.05 0.1  0.01 0.05 0.1 ]\n",
      "[0.99736451 1.01980956 1.03760063 0.83587811 1.82824405 1.85466289\n",
      " 1.8343692  0.63754818 5.3970507  4.30465812 2.48630666 7.84488393\n",
      " 3.80671563 1.61866531 9.30384003 3.57299749 1.83626252 6.42622054\n",
      " 2.98436879 1.86160167 7.85964323 3.03222405 1.86213819 8.00271996\n",
      " 3.03201938 1.86227335]\n"
     ]
    }
   ],
   "source": [
    "samples= np.column_stack(ml_y_pairs).T\n",
    "masses =np.array(samples[:,0])\n",
    "y= np.array(samples[:, 1])\n",
    "err=np.array(abs_err)\n",
    "indices = np.where(abs_err>0.6)\n",
    "ml_check = masses[indices]\n",
    "y_check = y[indices]\n",
    "err_check = err[indices]\n",
    "print(len(ml_check))\n",
    "print(ml_check)\n",
    "print(y_check)\n",
    "print(err_check)"
   ]
  },
  {
   "cell_type": "code",
   "execution_count": 399,
   "id": "8c20b511",
   "metadata": {},
   "outputs": [
    {
     "data": {
      "image/png": "[encoded data removed]",
      "text/plain": [
       "<Figure size 640x480 with 2 Axes>"
      ]
     },
     "metadata": {},
     "output_type": "display_data"
    }
   ],
   "source": [
    "import matplotlib.pyplot as plt\n",
    "\n",
    "map = plt.cm.get_cmap('viridis')\n",
    "reversed_map= map.reversed(map) \n",
    "plot = plt.scatter(samples[:, 0], samples[:, 1], c=abs_err, cmap=reversed_map,  s=10)\n",
    "plt.xlabel(r'$\\log \\mathcal{M}_{lz}$')\n",
    "plt.ylabel(r'$y$')\n",
    "plt.xscale('log')\n",
    "plt.yscale('log')\n",
    "# ticks_list = []\n",
    "cbar = plt.colorbar(plot)\n",
    "# cbar.set_ticklabels(list(map(str, ticks_list)))\n",
    "plt.title('Absolute Errors')\n",
    "plt.savefig('Abs_Errors in eta.png',dpi=300, bbox_inches='tight')\n",
    "plt.show()"
   ]
  },
  {
   "cell_type": "code",
   "execution_count": null,
   "id": "37d9d152",
   "metadata": {},
   "outputs": [],
   "source": []
  }
 ],
 "metadata": {
  "kernelspec": {
   "display_name": "Python 3 (ipykernel)",
   "language": "python",
   "name": "python3"
  },
  "language_info": {
   "codemirror_mode": {
    "name": "ipython",
    "version": 3
   },
   "file_extension": ".py",
   "mimetype": "text/x-python",
   "name": "python",
   "nbconvert_exporter": "python",
   "pygments_lexer": "ipython3",
   "version": "3.10.13"
  }
 },
 "nbformat": 4,
 "nbformat_minor": 5
}
